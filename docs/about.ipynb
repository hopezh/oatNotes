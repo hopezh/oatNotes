{
  "cells": [
    {
      "cell_type": "markdown",
      "metadata": {},
      "source": [
        "# About\n",
        "\n",
        "Oat is a learner."
      ],
      "id": "8dacb829-c1b1-4766-b7ed-4ff64d48fe37"
    }
  ],
  "nbformat": 4,
  "nbformat_minor": 5,
  "metadata": {
    "kernelspec": {
      "display_name": "Python 3",
      "language": "python",
      "name": "python3"
    }
  }
}