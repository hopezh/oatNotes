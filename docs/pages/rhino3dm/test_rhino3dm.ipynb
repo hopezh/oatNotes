{
  "cells": [
    {
      "cell_type": "markdown",
      "metadata": {},
      "source": [
        "# test rhino3dm\n",
        "\n",
        "# Docs\n",
        "\n",
        "-   [rhino3dm github](https://github.com/mcneel/rhino3dm)\n",
        "\n",
        "-   [rhino3dm\n",
        "    doc](https://mcneel.github.io/rhino3dm/python/api/index.html)\n",
        "\n",
        "-   [developer examples -\n",
        "    rhino3dm.py](https://github.com/mcneel/rhino-developer-samples/tree/7/rhino3dm/py)\n",
        "\n",
        "# Install rhino3dm:\n",
        "\n",
        "``` shell\n",
        "> pip install rhino3dm\n",
        "\n",
        "> pip show rhino3dm\n",
        "\n",
        "Name: rhino3dm\n",
        "Version: 8.6.0\n",
        "Summary: Python library based on OpenNURBS with a RhinoCommon\n",
        " style\n",
        "Home-page: \n",
        "Author: Robert McNeel & Associates\n",
        "Author-email: steve@mcneel.com\n",
        "License: \n",
        "Location: C:\\Users\\USERNAME\\.conda\\envs\\ai\\Lib\\site-packages\n",
        "Requires: \n",
        "Required-by: compute-rhino3d\n",
        "```\n",
        "\n",
        "# Example 1"
      ],
      "id": "42a89e79-00aa-4843-b182-a665eb3a585b"
    },
    {
      "cell_type": "code",
      "execution_count": 1,
      "metadata": {},
      "outputs": [
        {
          "output_type": "stream",
          "name": "stdout",
          "text": [
            "model object  0 : <rhino3dm._rhino3dm.File3dmObject object at 0x000001FD16570930>\n",
            "bbbox min & max: 1.8371907243686973,-1.5689282473879564,-4.805097727008464, 3.6645919601949197,1.5671337050051424,-3.192419551444698 \n",
            "\n",
            "model object  1 : <rhino3dm._rhino3dm.File3dmObject object at 0x000001FD3FA45630>\n",
            "bbbox min & max: -14.652654807178946,-3.523004292398442,-7.8656395649010795, 6.406813995967793,3.5230042923984426,14.775277446067086 \n",
            "\n",
            "model object  2 : <rhino3dm._rhino3dm.File3dmObject object at 0x000001FD402A5770>\n",
            "bbbox min & max: -1.5839081681904716,-2.3582386650337614,-9.08301167326336, 24.194368536477562,2.3582386650337734,6.399251336457315 \n",
            "\n",
            "model object  3 : <rhino3dm._rhino3dm.File3dmObject object at 0x000001FD402A4BB0>\n",
            "bbbox min & max: -1.0135556828519197,-3.5376915458174127,-13.422236304307603, 14.284066885969416,3.5376915458174127,-2.035007486827391 \n",
            "\n",
            "model object  4 : <rhino3dm._rhino3dm.File3dmObject object at 0x000001FD402A5BF0>\n",
            "bbbox min & max: 0.8982316021875303,-1.5671337050051424,-5.726878488888956, 4.395812771763269,1.5671337050051424,-2.640250606356152 \n",
            "\n",
            "model object  5 : <rhino3dm._rhino3dm.File3dmObject object at 0x000001FD402A55B0>\n",
            "bbbox min & max: 2.5014992399166736,-1.5671337050051424,-4.153203305329301, 3.172512024984831,1.5671337050051424,-3.561046024146983 \n"
          ]
        }
      ],
      "source": [
        "from rhino3dm import *\n",
        "import requests  # pip install requests\n",
        "\n",
        "req = requests.get(\"https://files.mcneel.com/TEST/Rhino Logo.3dm\")\n",
        "\n",
        "model = File3dm.FromByteArray(req.content)\n",
        "\n",
        "for i in range(len(model.Objects)):\n",
        "    obj = model.Objects[i]\n",
        "    geometry = obj.Geometry\n",
        "    bbox = geometry.GetBoundingBox()\n",
        "\n",
        "    print(\"model object \", i, ':', obj)\n",
        "    print(\"bbbox min & max: {}, {}\".format(bbox.Min, bbox.Max), '\\n')"
      ],
      "id": "dfc69d64"
    },
    {
      "cell_type": "markdown",
      "metadata": {},
      "source": [
        "> **File3dm.FromByteArray -\\> File3dm**\n",
        ">\n",
        "> [File3dm.FromByteArray](https://mcneel.github.io/rhino3dm/python/api/File3dm.html#rhino3dm.File3dm.FromByteArray)\n",
        ">\n",
        "> Read a 3dm file from a byte array\n",
        ">\n",
        "> -   Returns: New File3dm on success, None on error.\n",
        ">\n",
        "> -   Return type: File3dm\n",
        "\n",
        "> **File3dm.Objects –\\> File3dmObjectTable**\n",
        ">\n",
        "> [File3dm.Objects](https://mcneel.github.io/rhino3dm/python/api/File3dm.html#rhino3dm.File3dm.Objects)\n",
        ">\n",
        "> File3dmObjectTable: Gets access to the class associated with this\n",
        "> file, which contains all objects.\n",
        "\n",
        "> **File3dmObject.Geometry -\\> rhino3dm.GeometryBase**\n",
        ">\n",
        "> [File3dmObject.Geometry](https://mcneel.github.io/rhino3dm/python/api/File3dmObject.html#rhino3dm.File3dmObject.Geometry)\n",
        ">\n",
        "> rhino3dm.GeometryBase: Gets the geometry that is linked with this\n",
        "> document object.\n",
        "\n",
        "> **GeometryBase.GetBoundingBox -\\> rhino3dm.BoundingBox**\n",
        ">\n",
        "> [GeometryBase.GetBoundingBox](https://mcneel.github.io/rhino3dm/python/api/GeometryBase.html#rhino3dm.GeometryBase.GetBoundingBox)\n",
        ">\n",
        "> Bounding box solver. Gets the world axis aligned bounding box for the\n",
        "> geometry.\n",
        ">\n",
        "> Parameters:\n",
        ">\n",
        "> -   accurate (bool) – If true, a physically accurate bounding box will\n",
        ">     be computed. If not, a bounding box estimate will be computed. For\n",
        ">     some geometry types there is no difference between the estimate\n",
        ">     and the accurate bounding box. Estimated bounding boxes can be\n",
        ">     computed much (much) faster than accurate (or “tight”) bounding\n",
        ">     boxes. Estimated bounding boxes are always similar to or larger\n",
        ">     than accurate bounding boxes.\n",
        ">\n",
        "> Returns:\n",
        ">\n",
        "> -   The bounding box of the geometry in world coordinates or\n",
        ">     BoundingBox.Empty if not bounding box could be found.\n",
        ">\n",
        "> Return type:\n",
        ">\n",
        "> -   rhino3dm.BoundingBox\n",
        "\n",
        "> **rhino3dm.BoundingBox**\n",
        ">\n",
        "> [class\n",
        "> rhino3dm.BoundingBox](https://mcneel.github.io/rhino3dm/python/api/BoundingBox.html#rhino3dm.BoundingBox)\n",
        ">\n",
        "> > `BoundingBox(minX, minY, minZ, maxX, maxY, maxZ)`\n",
        "> >\n",
        "> > Constructs a bounding box from numeric extremes.\n",
        "> >\n",
        "> > Parameters:\n",
        "> >\n",
        "> > -   minX (float) – Lower extreme for box X size.\n",
        "> > -   minY (float) – Lower extreme for box Y size.\n",
        "> > -   minZ (float) – Lower extreme for box Z size.\n",
        "> > -   maxX (float) – Upper extreme for box X size.\n",
        "> > -   maxY (float) – Upper extreme for box Y size.\n",
        "> > -   maxZ (float) – Upper extreme for box Z size.\n",
        "\n",
        "# Example 2"
      ],
      "id": "2be9db3a-f0b0-446c-b774-9291bad0b1f7"
    },
    {
      "cell_type": "code",
      "execution_count": 2,
      "metadata": {},
      "outputs": [
        {
          "output_type": "stream",
          "name": "stdout",
          "text": [
            "start point <class 'rhino3dm._rhino3dm.Point3d'>"
          ]
        }
      ],
      "source": [
        "from rhino3dm import *\n",
        "\n",
        "center = Point3d(1, 2, 3)\n",
        "arc = Arc(center, 10, 1)\n",
        "nc = arc.ToNurbsCurve()\n",
        "start = nc.PointAtStart\n",
        "print('start point', type(start))"
      ],
      "id": "68f0b603"
    },
    {
      "cell_type": "markdown",
      "metadata": {},
      "source": [
        "# Example 3"
      ],
      "id": "bcec6583-6b17-482c-a4fd-c9b2eed9fa84"
    },
    {
      "cell_type": "code",
      "execution_count": 3,
      "metadata": {},
      "outputs": [],
      "source": [
        "import rhino3dm\n",
        "import random\n",
        "\n",
        "model = rhino3dm.File3dm()\n",
        "\n",
        "for i in range(20):\n",
        "    pt = rhino3dm.Point3d(random.uniform(-10,10), random.uniform(-10,10), 0)\n",
        "    model.Objects.AddPoint(pt)\n",
        "    circle = rhino3dm.Circle(pt, random.uniform(1,4))\n",
        "    model.Objects.AddCircle(circle)\n",
        "    \n",
        "# [note] the 3dm file can only be open in Rhino v8\n",
        "# model.Write(\"./circle.3dm\")"
      ],
      "id": "d71da817"
    },
    {
      "cell_type": "markdown",
      "metadata": {},
      "source": [
        "# Example 4"
      ],
      "id": "41eb1dd9-864a-4ed0-9f05-7488ad7252a2"
    },
    {
      "cell_type": "code",
      "execution_count": 4,
      "metadata": {},
      "outputs": [
        {
          "output_type": "stream",
          "name": "stdout",
          "text": [
            "<rhino3dm._rhino3dm.File3dm object at 0x000001FD3FDD7CB0>\n",
            "<rhino3dm._rhino3dm.Brep object at 0x000001FD164C93B0>\n",
            "<rhino3dm._rhino3dm.BrepFace object at 0x000001FD3FDC7E70>\n",
            "None"
          ]
        }
      ],
      "source": [
        "# Sample read render meshes from 3dm file\n",
        "\n",
        "import rhino3dm\n",
        "\n",
        "model = rhino3dm.File3dm.Read('./myBox.3dm')\n",
        "print(model)\n",
        "\n",
        "brep = model.Objects[0].Geometry\n",
        "print(brep)\n",
        "\n",
        "face = brep.Faces[0]\n",
        "print(face)\n",
        "\n",
        "mesh = face.GetMesh(rhino3dm.MeshType.Any)\n",
        "print(mesh)\n",
        "# print (len(mesh.Faces))"
      ],
      "id": "90c9ff58"
    },
    {
      "cell_type": "markdown",
      "metadata": {},
      "source": [
        "# Example 4"
      ],
      "id": "acbc6174-8278-4550-95a3-afe15e015c80"
    },
    {
      "cell_type": "code",
      "execution_count": 5,
      "metadata": {},
      "outputs": [
        {
          "output_type": "display_data",
          "metadata": {},
          "data": {
            "text/plain": [
              "True"
            ]
          }
        }
      ],
      "source": [
        "# spherelines.py\n",
        "# Sample script that demonstrates how to use Rhino3dm.py\n",
        "# https://github.com/mcneel/rhino3dm\n",
        "# This sample creates a 3dm file containing a group of randomly\n",
        "# distributed lines defining an sphere.\n",
        "\n",
        "import rhino3dm\n",
        "import random\n",
        "import math\n",
        "import os\n",
        "\n",
        "# Initial parameters\n",
        "theta_min = 0.0\n",
        "theta_max = math.pi\n",
        "alpha_min = 0.0\n",
        "alpha_max = math.pi * 2.0\n",
        "sphere_radius = 100.0\n",
        "num_lines = 1500\n",
        "\n",
        "# Create a center point\n",
        "center_pt = rhino3dm.Point3d(0.0, 0.0, 0.0)\n",
        "\n",
        "# Create a File3dm object\n",
        "model = rhino3dm.File3dm()\n",
        "\n",
        "for i in range(num_lines):\n",
        "    # Calculate random line end point\n",
        "    random.seed(i * 100)\n",
        "    theta = random.uniform(theta_min, theta_max)\n",
        "    alpha = random.uniform(alpha_min, alpha_max)\n",
        "    x = sphere_radius * math.sin(theta) * math.cos(alpha)\n",
        "    y = sphere_radius * math.sin(theta) * math.sin(alpha)\n",
        "    z = sphere_radius * math.cos(theta)\n",
        "    end_pt = rhino3dm.Point3d(x, y, z)\n",
        "    # Create line curve\n",
        "    line_curve = rhino3dm.LineCurve(center_pt, end_pt)\n",
        "    # Add to model\n",
        "    model.Objects.AddCurve(line_curve)\n",
        "\n",
        "# Full path to 3dm file to save\n",
        "desktop = os.path.join(os.path.join(os.environ['USERPROFILE']), 'Desktop') \n",
        "filename = 'spherelines.3dm'\n",
        "# path = os.path.join(desktop, filename)\n",
        "path = './spherelines.3dm'\n",
        "\n",
        "# Write model to disk\n",
        "model.Write(path, 6)"
      ],
      "id": "99086f0f"
    }
  ],
  "nbformat": 4,
  "nbformat_minor": 5,
  "metadata": {
    "kernelspec": {
      "name": "python3",
      "display_name": "Python 3 (ipykernel)",
      "language": "python"
    },
    "language_info": {
      "name": "python",
      "codemirror_mode": {
        "name": "ipython",
        "version": "3"
      },
      "file_extension": ".py",
      "mimetype": "text/x-python",
      "nbconvert_exporter": "python",
      "pygments_lexer": "ipython3",
      "version": "3.11.7"
    }
  }
}