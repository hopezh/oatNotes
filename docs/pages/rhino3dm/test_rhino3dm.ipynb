{
  "cells": [
    {
      "cell_type": "markdown",
      "metadata": {},
      "source": [
        "# test rhino3dm\n",
        "\n",
        "[rhino3dm github](https://github.com/mcneel/rhino3dm)\n",
        "\n",
        "Install rhino3dm\n",
        "\n",
        "``` shell\n",
        "> pip install rhino3dm\n",
        "\n",
        "> pip show rhino3dm\n",
        "\n",
        "Name: rhino3dm\n",
        "Version: 8.6.0\n",
        "Summary: Python library based on OpenNURBS with a RhinoCommon\n",
        " style\n",
        "Home-page: \n",
        "Author: Robert McNeel & Associates\n",
        "Author-email: steve@mcneel.com\n",
        "License: \n",
        "Location: C:\\Users\\USERNAME\\.conda\\envs\\ai\\Lib\\site-packages\n",
        "Requires: \n",
        "Required-by: compute-rhino3d\n",
        "```\n",
        "\n",
        "Test code:"
      ],
      "id": "f32c3cba-1935-4a8a-b3ae-2e1fc119c72f"
    },
    {
      "cell_type": "code",
      "execution_count": 1,
      "metadata": {},
      "outputs": [
        {
          "output_type": "stream",
          "name": "stdout",
          "text": [
            "1.8371907243686973,-1.5689282473879564,-4.805097727008464, 3.6645919601949197,1.5671337050051424,-3.192419551444698\n",
            "-14.652654807178946,-3.523004292398442,-7.8656395649010795, 6.406813995967793,3.5230042923984426,14.775277446067086\n",
            "-1.5839081681904716,-2.3582386650337614,-9.08301167326336, 24.194368536477562,2.3582386650337734,6.399251336457315\n",
            "-1.0135556828519197,-3.5376915458174127,-13.422236304307603, 14.284066885969416,3.5376915458174127,-2.035007486827391\n",
            "0.8982316021875303,-1.5671337050051424,-5.726878488888956, 4.395812771763269,1.5671337050051424,-2.640250606356152\n",
            "2.5014992399166736,-1.5671337050051424,-4.153203305329301, 3.172512024984831,1.5671337050051424,-3.561046024146983"
          ]
        }
      ],
      "source": [
        "from rhino3dm import *\n",
        "import requests  # pip install requests\n",
        "\n",
        "req = requests.get(\"https://files.mcneel.com/TEST/Rhino Logo.3dm\")\n",
        "\n",
        "model = File3dm.FromByteArray(req.content)\n",
        "\n",
        "for obj in model.Objects:\n",
        "    geometry = obj.Geometry\n",
        "    bbox = geometry.GetBoundingBox()\n",
        "    print(\"{}, {}\".format(bbox.Min, bbox.Max))"
      ],
      "id": "154b1b41"
    }
  ],
  "nbformat": 4,
  "nbformat_minor": 5,
  "metadata": {
    "kernelspec": {
      "name": "python3",
      "display_name": "Python 3 (ipykernel)",
      "language": "python"
    }
  }
}