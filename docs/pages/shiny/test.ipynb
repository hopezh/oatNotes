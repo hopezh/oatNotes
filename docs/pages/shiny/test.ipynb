{
  "cells": [
    {
      "cell_type": "markdown",
      "metadata": {},
      "source": [
        "# test dashboard"
      ],
      "id": "482d1cad-f3de-408e-8499-9c8c459e1895"
    }
  ],
  "nbformat": 4,
  "nbformat_minor": 5,
  "metadata": {
    "kernelspec": {
      "display_name": "Python 3",
      "language": "python",
      "name": "python3"
    }
  }
}