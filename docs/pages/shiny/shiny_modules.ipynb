{
  "cells": [
    {
      "cell_type": "markdown",
      "metadata": {},
      "source": [
        "# Shiny Modules\n",
        "\n",
        "# Intro\n",
        "\n",
        "Source: [Shiny Modules](https://shiny.posit.co/py/docs/modules.html)\n",
        "\n",
        "> Writing modules in Shiny is the best strategy for organizing a large\n",
        "> Shiny code base.\n",
        ">\n",
        "> With modules, you can break your application into small pieces that\n",
        "> can be reasoned about separately and composed to build larger\n",
        "> applications.\n",
        ">\n",
        "> This article explains the basics of why we need modules and how to use\n",
        "> them, and the next article explains how to communicate between\n",
        "> modules.\n",
        "\n",
        "# Why do we need modules\n",
        "\n",
        "> Modules solve these problems by ***encapsulating*** both the `UI` and\n",
        "> `server` logic in their own `namespace`.\n",
        ">\n",
        "> A `module namespace` can be thought of as a ***container*** for a\n",
        "> module’s code, and helps to keep the module’s `variables`,\n",
        "> `functions`, and `classes` separate from those in other modules.\n",
        ">\n",
        "> This separation prevents naming conflicts and makes the code easier to\n",
        "> understand and manage.\n",
        ">\n",
        "> A `namespace` is a unique ***identifier*** that Shiny assigns to each\n",
        "> instance of a module to keep its `input` and `output` IDs separate\n",
        "> from the IDs of other instances and from the rest of the Shiny\n",
        "> application.\n",
        "\n",
        "# How to use modules"
      ],
      "id": "0cd0cc1b-d7f2-4b56-adca-605f7dd08647"
    }
  ],
  "nbformat": 4,
  "nbformat_minor": 5,
  "metadata": {
    "kernelspec": {
      "display_name": "Python 3",
      "language": "python",
      "name": "python3"
    }
  }
}