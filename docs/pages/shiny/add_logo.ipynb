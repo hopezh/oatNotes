{
  "cells": [
    {
      "cell_type": "markdown",
      "metadata": {},
      "source": [
        "# Add Logo\n",
        "\n",
        "A simple `Shiny` app embedded in a `Qurato` doc.\n",
        "\n",
        "``` shinylive-python\n",
        "#| '!! shinylive warning !!': |\n",
        "#|   shinylive does not work in self-contained HTML documents.\n",
        "#|   Please set `embed-resources: false` in your metadata.\n",
        "#| standalone: true\n",
        "#| components: [editor, viewer]\n",
        "#| viewerHeight: 500\n",
        "\n",
        "## file: app.py\n",
        "from pathlib import Path\n",
        "from shiny import App, render, ui, Inputs, Outputs, Session\n",
        "from utils import square\n",
        "\n",
        "app_ui = ui.page_fluid(\n",
        "    ui.layout_columns(\n",
        "        ui.input_slider(\"n\", \"Make a Shiny square:\", min=0, max=6, value=2),\n",
        "        ui.output_ui(\"images\"),\n",
        "    )\n",
        ")\n",
        "\n",
        "def server(input: Inputs, output: Outputs, session: Session):\n",
        "    @output\n",
        "    @render.ui\n",
        "    def images():\n",
        "        img = ui.img(src=\"logo.png\", style=\"width: 40px;\")\n",
        "        return square(img, input.n())\n",
        "\n",
        "www_dir = Path(__file__).parent / \"www\"\n",
        "app = App(app_ui, server, static_assets=www_dir)\n",
        "\n",
        "## file: utils.py\n",
        "from shiny import ui\n",
        "\n",
        "def square(x, n):\n",
        "    row = ui.div([x] * n)\n",
        "    return ui.div([row] * n)\n",
        "\n",
        "## file: www/logo.jpeg\n",
        "```"
      ],
      "id": "a95c774a-4858-43ff-9bb6-11f8509f14fd"
    }
  ],
  "nbformat": 4,
  "nbformat_minor": 5,
  "metadata": {
    "kernelspec": {
      "display_name": "Python 3",
      "language": "python",
      "name": "python3"
    }
  }
}