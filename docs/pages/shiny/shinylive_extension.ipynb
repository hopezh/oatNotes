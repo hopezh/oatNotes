{
  "cells": [
    {
      "cell_type": "markdown",
      "metadata": {},
      "source": [
        "# Shinylive Quarto Extension\n",
        "\n",
        "# Interactive Shiny App\n",
        "\n",
        "``` shinylive-python\n",
        "#| '!! shinylive warning !!': |\n",
        "#|   shinylive does not work in self-contained HTML documents.\n",
        "#|   Please set `embed-resources: false` in your metadata.\n",
        "#| standalone: true\n",
        "#| viewerHeight: 420\n",
        "\n",
        "from shiny import App, render, ui\n",
        "import numpy as np\n",
        "import matplotlib.pyplot as plt\n",
        "\n",
        "app_ui = ui.page_fluid(\n",
        "    ui.layout_sidebar(\n",
        "        ui.sidebar(\n",
        "            ui.input_slider(\"period\", \"Period\", 0.5, 4, 1, step=0.5),\n",
        "            ui.input_slider(\"amplitude\", \"Amplitude\", 0, 2, 1, step=0.25),\n",
        "            ui.input_slider(\"shift\", \"Phase shift\", 0, 2, 0, step=0.1),\n",
        "        ),\n",
        "        ui.output_plot(\"plot\"),\n",
        "    ),\n",
        ")\n",
        "\n",
        "\n",
        "def server(input, output, session):\n",
        "    @output\n",
        "    @render.plot(alt=\"Sine wave\")\n",
        "    def plot():\n",
        "        t = np.arange(0.0, 4.0, 0.01)\n",
        "        s = input.amplitude() * np.sin(\n",
        "            2 * np.pi / input.period() * (t - input.shift() / 2)\n",
        "        )\n",
        "        fig, ax = plt.subplots()\n",
        "        ax.set_ylim([-2, 2])\n",
        "        ax.plot(t, s)\n",
        "        ax.grid()\n",
        "\n",
        "\n",
        "app = App(app_ui, server)\n",
        "```"
      ],
      "id": "8307476d-daf6-4ced-9c7f-00bbd3bb52b9"
    }
  ],
  "nbformat": 4,
  "nbformat_minor": 5,
  "metadata": {
    "kernelspec": {
      "display_name": "Python 3",
      "language": "python",
      "name": "python3"
    }
  }
}