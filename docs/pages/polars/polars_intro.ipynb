{
  "cells": [
    {
      "cell_type": "markdown",
      "metadata": {},
      "source": [
        "# Polars Intro\n",
        "\n",
        "> Source: [polars:\n",
        "> intro](https://calmcode.io/course/polars/introduction)"
      ],
      "id": "3f2f04af-68b5-477e-b9e8-69786426c434"
    },
    {
      "cell_type": "code",
      "execution_count": 1,
      "metadata": {},
      "outputs": [
        {
          "output_type": "stream",
          "name": "stdout",
          "text": [
            "pandas: 2.2.2\n",
            "polars: 1.7.1"
          ]
        }
      ],
      "source": [
        "import pandas as pd\n",
        "import polars as pl\n",
        "\n",
        "print('pandas:', pd.__version__)\n",
        "print('polars:', pl.__version__)"
      ],
      "id": "594c9505"
    }
  ],
  "nbformat": 4,
  "nbformat_minor": 5,
  "metadata": {
    "kernelspec": {
      "name": "python3",
      "display_name": "Python 3 (ipykernel)",
      "language": "python",
      "path": "/opt/anaconda3/envs/ai/share/jupyter/kernels/python3"
    },
    "language_info": {
      "name": "python",
      "codemirror_mode": {
        "name": "ipython",
        "version": "3"
      },
      "file_extension": ".py",
      "mimetype": "text/x-python",
      "nbconvert_exporter": "python",
      "pygments_lexer": "ipython3",
      "version": "3.11.7"
    }
  }
}