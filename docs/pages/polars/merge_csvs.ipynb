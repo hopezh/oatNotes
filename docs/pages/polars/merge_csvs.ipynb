{
  "cells": [
    {
      "cell_type": "markdown",
      "metadata": {},
      "source": [
        "# Merge CSVs"
      ],
      "id": "9ce207c9-9c92-4487-b390-d4771a1e6831"
    },
    {
      "cell_type": "code",
      "execution_count": 1,
      "metadata": {},
      "outputs": [
        {
          "output_type": "display_data",
          "metadata": {},
          "data": {
            "text/plain": [
              "<polars.config.Config at 0x11307a4d0>"
            ]
          }
        }
      ],
      "source": [
        "from glob import glob\n",
        "import os\n",
        "\n",
        "import polars as pl\n",
        "pl.Config(tbl_rows=10)"
      ],
      "id": "5358a31e"
    },
    {
      "cell_type": "markdown",
      "metadata": {},
      "source": [
        "# glob CSVs in a folder"
      ],
      "id": "7bc5196d-0080-48d8-84aa-344e0c308137"
    },
    {
      "cell_type": "code",
      "execution_count": 2,
      "metadata": {
        "source-line-numbers": "1-3"
      },
      "outputs": [
        {
          "output_type": "stream",
          "name": "stdout",
          "text": [
            "csv  0  :  ./data/csv/cn_zone_1_08_updated.csv\n",
            "csv  1  :  ./data/csv/cn_zone_1_04_updated.csv\n",
            "csv  2  :  ./data/csv/cn_zone_1_07_updated.csv\n",
            "csv  3  :  ./data/csv/cn_zone_1_05_updated.csv\n",
            "csv  4  :  ./data/csv/cn_zone_1_06_updated.csv"
          ]
        }
      ],
      "source": [
        "csv_dir = \"./data/csv/\"\n",
        "csv_path_glob = os.path.join(csv_dir, '*.csv')\n",
        "csv_list = glob(csv_path_glob)\n",
        "\n",
        "for idx, csv in enumerate(csv_list):\n",
        "    print('csv ', idx, ' : ', csv)"
      ],
      "id": "53ec9063"
    },
    {
      "cell_type": "markdown",
      "metadata": {},
      "source": [
        "> **glob**\n",
        ">\n",
        "> [glob](https://www.geeksforgeeks.org/how-to-use-glob-function-to-find-files-recursively-in-python/)\n",
        "\n",
        "# merge CSVs into a df"
      ],
      "id": "e6bdebf3-107f-4c07-af6b-e497f8b6c4f4"
    },
    {
      "cell_type": "code",
      "execution_count": 3,
      "metadata": {},
      "outputs": [
        {
          "output_type": "stream",
          "name": "stdout",
          "text": [
            "CPU times: user 8.03 ms, sys: 5.9 ms, total: 13.9 ms\n",
            "Wall time: 16.1 ms"
          ]
        },
        {
          "output_type": "display_data",
          "metadata": {},
          "data": {
            "text/html": [
              "</div>"
            ]
          }
        }
      ],
      "source": [
        "%%time\n",
        "\n",
        "df_merged = pl.read_csv(csv_path_glob)\n",
        "\n",
        "# q = (\n",
        "#     pl.scan_csv(csv_path_glob)\n",
        "# )\n",
        "# df_merged = q.collect()\n",
        "\n",
        "df_merged"
      ],
      "id": "81fb3940"
    },
    {
      "cell_type": "markdown",
      "metadata": {},
      "source": [
        "> **Dealing with multple files**\n",
        ">\n",
        "> [Multiple](https://docs.pola.rs/user-guide/io/multiple/)\n",
        "\n",
        "> **polars.read_csv**\n",
        ">\n",
        "> [polars.read_csv](https://docs.pola.rs/py-polars/html/reference/api/polars.read_csv.html)\n",
        "\n",
        "> **polars.scan_csv**\n",
        ">\n",
        "> [polars.scan_csv](https://docs.pola.rs/py-polars/html/reference/api/polars.scan_csv.html)\n",
        "\n",
        "# write the df as a merged CSV"
      ],
      "id": "4662c000-2f6b-4684-9581-f0f57aedcbc1"
    },
    {
      "cell_type": "code",
      "execution_count": 4,
      "metadata": {},
      "outputs": [
        {
          "output_type": "stream",
          "name": "stdout",
          "text": [
            "...merged csv written."
          ]
        },
        {
          "output_type": "display_data",
          "metadata": {},
          "data": {
            "text/html": [
              "</div>"
            ]
          }
        }
      ],
      "source": [
        "csv_merged_path = os.path.join(\"./data/csv_merged/\", \"cn_zone_1_04-08_merged.csv\")\n",
        "df_merged.write_csv(csv_merged_path)\n",
        "print('...merged csv written.')\n",
        "df_merged"
      ],
      "id": "446200ab"
    },
    {
      "cell_type": "markdown",
      "metadata": {},
      "source": [
        "> **polars.DataFrame.write_csv**\n",
        ">\n",
        "> [polars.DataFrame.write_csv](https://docs.pola.rs/py-polars/html/reference/api/polars.DataFrame.write_csv.html#polars.DataFrame.write_csv)\n",
        "\n",
        "# (lazy-)filter a DF by a list of items in a column\n",
        "\n",
        "``` python\n",
        "%%time\n",
        "\n",
        "strings_to_filter = [\n",
        "    '1-4-NB05-10',\n",
        "    '1-4-NB05-9',\n",
        "    '1-8-NB02-4',\n",
        "]\n",
        "\n",
        "query = (\n",
        "    pl.scan_csv(csv_path_glob)\n",
        "      .filter(pl.col('string_name')\n",
        "      .is_in(strings_to_filter))\n",
        ")\n",
        "\n",
        "df_filtered = query.collect()\n",
        "\n",
        "df_filtered\n",
        "```\n",
        "\n",
        "Line 9  \n",
        "Build a query(s) in `lazy` mode\n",
        "\n",
        "Line 15  \n",
        "execute the query(s) when its `collected`\n",
        "\n",
        "> **lazy/eager API**\n",
        ">\n",
        "> [Lazy/eager\n",
        "> API](https://docs.pola.rs/user-guide/concepts/lazy-vs-eager/)"
      ],
      "id": "fc700693-6039-4622-aae2-cb179a83c634"
    }
  ],
  "nbformat": 4,
  "nbformat_minor": 5,
  "metadata": {
    "kernelspec": {
      "name": "python3",
      "display_name": "Python 3 (ipykernel)",
      "language": "python",
      "path": "/opt/anaconda3/envs/ai/share/jupyter/kernels/python3"
    },
    "language_info": {
      "name": "python",
      "codemirror_mode": {
        "name": "ipython",
        "version": "3"
      },
      "file_extension": ".py",
      "mimetype": "text/x-python",
      "nbconvert_exporter": "python",
      "pygments_lexer": "ipython3",
      "version": "3.11.7"
    }
  }
}