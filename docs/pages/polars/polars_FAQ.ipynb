{
  "cells": [
    {
      "cell_type": "markdown",
      "metadata": {},
      "source": [
        "# Polars FAQ"
      ],
      "id": "0c1a3484-929c-4f23-ae59-24fb1d5a0d2b"
    },
    {
      "cell_type": "code",
      "execution_count": 1,
      "metadata": {},
      "outputs": [
        {
          "output_type": "stream",
          "name": "stdout",
          "text": [
            "polars: 1.22.0"
          ]
        }
      ],
      "source": [
        "import polars as pl\n",
        "print('polars:', pl.__version__)"
      ],
      "id": "d43a82bd"
    },
    {
      "cell_type": "markdown",
      "metadata": {},
      "source": [
        "# Get the `min/max` of a column"
      ],
      "id": "43d78a87-4fbe-4d93-a530-06e9a5a1eebd"
    },
    {
      "cell_type": "code",
      "execution_count": 2,
      "metadata": {},
      "outputs": [
        {
          "output_type": "stream",
          "name": "stdout",
          "text": [
            "shape: (4, 4)\n",
            "┌──────┬──────┬───────────┬─────────────────┐\n",
            "│ A    ┆ B    ┆ C         ┆ D               │\n",
            "│ ---  ┆ ---  ┆ ---       ┆ ---             │\n",
            "│ i64  ┆ str  ┆ list[i64] ┆ list[str]       │\n",
            "╞══════╪══════╪═══════════╪═════════════════╡\n",
            "│ 1    ┆ a    ┆ [1, 2]    ┆ [\"a\", \"b\"]      │\n",
            "│ 2    ┆ b    ┆ [3]       ┆ [\"c\"]           │\n",
            "│ null ┆ c    ┆ [4, 5, 6] ┆ [\"d\", \"e\", \"f\"] │\n",
            "│ 4    ┆ null ┆ null      ┆ [\"g\", \"h\"]      │\n",
            "└──────┴──────┴───────────┴─────────────────┘"
          ]
        }
      ],
      "source": [
        "# sample dataframe\n",
        "data = {\n",
        "    'A': [1, 2, None, 4],\n",
        "    'B': ['a', 'b','c', None], \n",
        "    'C': [\n",
        "            [1, 2],\n",
        "            [3], \n",
        "            [4, 5, 6], \n",
        "            None\n",
        "        ],\n",
        "    'D': [\n",
        "            ['a', 'b'],\n",
        "            ['c'],\n",
        "            ['d', 'e', 'f'],\n",
        "            ['g', 'h']\n",
        "        ],\n",
        "}\n",
        "\n",
        "df = pl.DataFrame(data)\n",
        "\n",
        "print(df)"
      ],
      "id": "a5986bd3"
    },
    {
      "cell_type": "code",
      "execution_count": 3,
      "metadata": {},
      "outputs": [
        {
          "output_type": "stream",
          "name": "stdout",
          "text": [
            "max val in col A : 1"
          ]
        }
      ],
      "source": [
        "col_name = 'A'\n",
        "max_val = df.select(pl.min(col_name)).item()\n",
        "\n",
        "# print('type of max_val:', type(max_val))\n",
        "print('max val in col', col_name, ':', max_val)"
      ],
      "id": "7b06b484"
    }
  ],
  "nbformat": 4,
  "nbformat_minor": 5,
  "metadata": {
    "kernelspec": {
      "name": "python3",
      "display_name": "Python 3 (ipykernel)",
      "language": "python",
      "path": "C:_JI"
    }
  }
}