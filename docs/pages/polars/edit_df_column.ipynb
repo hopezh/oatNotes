{
  "cells": [
    {
      "cell_type": "markdown",
      "metadata": {},
      "source": [
        "# Edit DF Column\n",
        "\n",
        "# add dummy dataframe"
      ],
      "id": "4df8ca44-d398-42a5-93c4-cef5fceeae91"
    },
    {
      "cell_type": "code",
      "execution_count": 1,
      "metadata": {},
      "outputs": [
        {
          "output_type": "display_data",
          "metadata": {},
          "data": {
            "text/html": [
              "</div>"
            ]
          }
        }
      ],
      "source": [
        "import polars as pl\n",
        "from datetime import datetime\n",
        "\n",
        "df = pl.DataFrame(\n",
        "    {\n",
        "        \"integer\": [1, 2, 3],\n",
        "        \"date\": [\n",
        "            datetime(2025, 1, 1),\n",
        "            datetime(2025, 1, 2),\n",
        "            datetime(2025, 1, 3),\n",
        "        ],\n",
        "        \"float\": [4.0, 5.0, 6.0],\n",
        "        \"string\": [\"a\", \"b\", \"c\"],\n",
        "    }\n",
        ")\n",
        "\n",
        "df"
      ],
      "id": "7bbce853"
    }
  ],
  "nbformat": 4,
  "nbformat_minor": 5,
  "metadata": {
    "kernelspec": {
      "name": "python3",
      "display_name": "Python 3 (ipykernel)",
      "language": "python"
    }
  }
}