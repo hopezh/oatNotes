{
  "cells": [
    {
      "cell_type": "markdown",
      "metadata": {},
      "source": [
        "# Edit DF Column\n",
        "\n",
        "> **Note**\n",
        ">\n",
        "> Using `lambda` func with `map_elements()`, or `appl()`, is much slower\n",
        "> than using native expressions.\n",
        "\n",
        "# add dummy dataframe"
      ],
      "id": "f9657ed4-4b11-490a-80c5-72e8d4478a58"
    },
    {
      "cell_type": "code",
      "execution_count": 1,
      "metadata": {},
      "outputs": [
        {
          "output_type": "display_data",
          "metadata": {},
          "data": {
            "text/html": [
              "</div>"
            ]
          }
        }
      ],
      "source": [
        "import polars as pl\n",
        "from datetime import datetime\n",
        "\n",
        "df = pl.DataFrame(\n",
        "    {\n",
        "        \"integer\": [1, 2, 3],\n",
        "        \"date\": [\n",
        "            datetime(2025, 1, 1),\n",
        "            datetime(2025, 1, 2),\n",
        "            datetime(2025, 1, 3),\n",
        "        ],\n",
        "        \"float\": [4.0, 5.0, 6.0],\n",
        "        \"string\": [\"a\", \"b\", \"c\"],\n",
        "    }\n",
        ")\n",
        "\n",
        "df"
      ],
      "id": "aabcd563"
    },
    {
      "cell_type": "markdown",
      "metadata": {},
      "source": [
        "# use lambda func to edit a string column"
      ],
      "id": "fa2f4d8c-a199-4059-8b2e-1705bc1e669c"
    },
    {
      "cell_type": "code",
      "execution_count": 2,
      "metadata": {},
      "outputs": [
        {
          "output_type": "stream",
          "name": "stderr",
          "text": [
            "/var/folders/7g/c9hb4wgd0mz62mwd00xdd4q40000gn/T/ipykernel_10468/3168615590.py:5: PolarsInefficientMapWarning:\n",
            "\n",
            "\n",
            "Expr.map_elements is significantly slower than the native expressions API.\n",
            "Only use if you absolutely CANNOT implement your logic otherwise.\n",
            "Replace this expression...\n",
            "  - pl.col(\"string\").map_elements(lambda str: ...)\n",
            "with this one instead:\n",
            "  + pl.col(\"string\") + '+'\n",
            "\n"
          ]
        },
        {
          "output_type": "display_data",
          "metadata": {},
          "data": {
            "text/html": [
              "</div>"
            ]
          }
        }
      ],
      "source": [
        "lambda_add_str = lambda str: str + \"+\"\n",
        "\n",
        "df = df.with_columns(\n",
        "    pl.col('string')\n",
        "        .map_elements(lambda_add_str, return_dtype=pl.String)\n",
        "        .alias('str_plus')\n",
        ")\n",
        "\n",
        "df"
      ],
      "id": "fc004739"
    },
    {
      "cell_type": "code",
      "execution_count": 3,
      "metadata": {},
      "outputs": [
        {
          "output_type": "display_data",
          "metadata": {},
          "data": {
            "text/html": [
              "</div>"
            ]
          }
        }
      ],
      "source": [
        "# alternativly...\n",
        "\n",
        "df = df.with_columns(\n",
        "    (pl.col('string') + \"-\").alias('str_minus')\n",
        ")\n",
        "\n",
        "df"
      ],
      "id": "ce7e1fe1"
    }
  ],
  "nbformat": 4,
  "nbformat_minor": 5,
  "metadata": {
    "kernelspec": {
      "name": "python3",
      "display_name": "Python 3 (ipykernel)",
      "language": "python",
      "path": "/opt/anaconda3/envs/ai/share/jupyter/kernels/python3"
    },
    "language_info": {
      "name": "python",
      "codemirror_mode": {
        "name": "ipython",
        "version": "3"
      },
      "file_extension": ".py",
      "mimetype": "text/x-python",
      "nbconvert_exporter": "python",
      "pygments_lexer": "ipython3",
      "version": "3.11.8"
    }
  }
}