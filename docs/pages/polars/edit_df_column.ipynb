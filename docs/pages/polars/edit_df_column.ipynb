{
  "cells": [
    {
      "cell_type": "markdown",
      "metadata": {},
      "source": [
        "# Edit DF Column\n",
        "\n",
        "# add dummy dataframe"
      ],
      "id": "13688655-bd29-4019-b149-0a28f1671898"
    },
    {
      "cell_type": "code",
      "execution_count": 1,
      "metadata": {},
      "outputs": [
        {
          "output_type": "display_data",
          "metadata": {},
          "data": {
            "text/html": [
              "</div>"
            ]
          }
        }
      ],
      "source": [
        "import polars as pl\n",
        "from datetime import datetime\n",
        "\n",
        "df = pl.DataFrame(\n",
        "    {\n",
        "        \"integer\": [1, 2, 3],\n",
        "        \"date\": [\n",
        "            datetime(2025, 1, 1),\n",
        "            datetime(2025, 1, 2),\n",
        "            datetime(2025, 1, 3),\n",
        "        ],\n",
        "        \"float\": [4.0, 5.0, 6.0],\n",
        "        \"string\": [\"a\", \"b\", \"c\"],\n",
        "    }\n",
        ")\n",
        "\n",
        "df"
      ],
      "id": "067213f9"
    },
    {
      "cell_type": "markdown",
      "metadata": {},
      "source": [
        "# use lambda func to edit a string column"
      ],
      "id": "6b5cd1d9-9114-414d-9d35-a2dc05ae1c34"
    },
    {
      "cell_type": "code",
      "execution_count": 2,
      "metadata": {},
      "outputs": [
        {
          "output_type": "stream",
          "name": "stderr",
          "text": [
            "/var/folders/3y/h7wbnqln179cb54qswjq7g880000gn/T/ipykernel_11203/1487090700.py:5: PolarsInefficientMapWarning:\n",
            "\n",
            "\n",
            "Expr.map_elements is significantly slower than the native expressions API.\n",
            "Only use if you absolutely CANNOT implement your logic otherwise.\n",
            "Replace this expression...\n",
            "  - pl.col(\"string\").map_elements(lambda str: ...)\n",
            "with this one instead:\n",
            "  + pl.col(\"string\") + '-'\n",
            "\n",
            "\n",
            "/var/folders/3y/h7wbnqln179cb54qswjq7g880000gn/T/ipykernel_11203/1487090700.py:3: MapWithoutReturnDtypeWarning:\n",
            "\n",
            "Calling `map_elements` without specifying `return_dtype` can lead to unpredictable results. Specify `return_dtype` to silence this warning.\n"
          ]
        },
        {
          "output_type": "display_data",
          "metadata": {},
          "data": {
            "text/html": [
              "</div>"
            ]
          }
        }
      ],
      "source": [
        "lambda_add_str = lambda str: str + \"-\"\n",
        "\n",
        "df = df.with_columns(\n",
        "    pl.col('string')\n",
        "        .map_elements(lambda_add_str)\n",
        "        .alias('str_plus')\n",
        ")\n",
        "\n",
        "df"
      ],
      "id": "fbf62ed3"
    }
  ],
  "nbformat": 4,
  "nbformat_minor": 5,
  "metadata": {
    "kernelspec": {
      "name": "python3",
      "display_name": "Python 3 (ipykernel)",
      "language": "python",
      "path": "/opt/anaconda3/envs/ai/share/jupyter/kernels/python3"
    },
    "language_info": {
      "name": "python",
      "codemirror_mode": {
        "name": "ipython",
        "version": "3"
      },
      "file_extension": ".py",
      "mimetype": "text/x-python",
      "nbconvert_exporter": "python",
      "pygments_lexer": "ipython3",
      "version": "3.11.7"
    }
  }
}