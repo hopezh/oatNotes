{
  "cells": [
    {
      "cell_type": "markdown",
      "metadata": {},
      "source": [
        "# Polars Cookbook\n",
        "\n",
        "# import polars"
      ],
      "id": "b6b0121d-e588-4b42-abd4-3cef0c2b5453"
    },
    {
      "cell_type": "code",
      "execution_count": 1,
      "metadata": {},
      "outputs": [
        {
          "output_type": "stream",
          "name": "stdout",
          "text": [
            "polars ver: 1.7.1"
          ]
        }
      ],
      "source": [
        "import polars as pl\n",
        "\n",
        "print('polars ver:', pl.__version__)"
      ],
      "id": "be4d4c8b"
    },
    {
      "cell_type": "markdown",
      "metadata": {},
      "source": [
        "# read data\n",
        "\n",
        "Create dummy df."
      ],
      "id": "6ccbed1f-8497-4610-8857-5eb24ace8602"
    },
    {
      "cell_type": "code",
      "execution_count": 2,
      "metadata": {},
      "outputs": [
        {
          "output_type": "display_data",
          "metadata": {},
          "data": {
            "text/html": [
              "</div>"
            ]
          }
        }
      ],
      "source": [
        "df = pl.DataFrame({\n",
        "    'nums': [1, 2, 3, 4, 5],\n",
        "    'letters': ['a', 'b', 'c', 'd', 'e']\n",
        "})\n",
        "\n",
        "df.head()"
      ],
      "id": "c9eae371"
    },
    {
      "cell_type": "markdown",
      "metadata": {},
      "source": [
        "Read `CSV` file."
      ],
      "id": "25dad5bd-0a85-487f-afcd-4c4345d030d7"
    },
    {
      "cell_type": "code",
      "execution_count": 3,
      "metadata": {},
      "outputs": [],
      "source": [
        "df_csv = pl.read_csv('./data/titanic.csv')\n",
        "\n",
        "df_csv.head()"
      ],
      "id": "baced7e7"
    },
    {
      "cell_type": "markdown",
      "metadata": {},
      "source": [
        "Get df info"
      ],
      "id": "c47dd271-0ec8-4d9e-9f24-37b971fc141b"
    },
    {
      "cell_type": "code",
      "execution_count": 4,
      "metadata": {},
      "outputs": [
        {
          "output_type": "display_data",
          "metadata": {},
          "data": {
            "text/plain": [
              "Schema([('Survived', Int64),\n",
              "        ('Pclass', Int64),\n",
              "        ('Name', String),\n",
              "        ('Sex', String),\n",
              "        ('Age', Float64),\n",
              "        ('Siblings/Spouses Aboard', Int64),\n",
              "        ('Parents/Children Aboard', Int64),\n",
              "        ('Fare', Float64)])"
            ]
          }
        }
      ],
      "source": [
        "df_csv.schema"
      ],
      "id": "192ff341"
    },
    {
      "cell_type": "code",
      "execution_count": 5,
      "metadata": {},
      "outputs": [
        {
          "output_type": "display_data",
          "metadata": {},
          "data": {
            "text/plain": [
              "['Survived',\n",
              " 'Pclass',\n",
              " 'Name',\n",
              " 'Sex',\n",
              " 'Age',\n",
              " 'Siblings/Spouses Aboard',\n",
              " 'Parents/Children Aboard',\n",
              " 'Fare']"
            ]
          }
        }
      ],
      "source": [
        "df_csv.columns"
      ],
      "id": "be1b2fc8"
    },
    {
      "cell_type": "code",
      "execution_count": 6,
      "metadata": {},
      "outputs": [
        {
          "output_type": "display_data",
          "metadata": {},
          "data": {
            "text/plain": [
              "[Int64, Int64, String, String, Float64, Int64, Int64, Float64]"
            ]
          }
        }
      ],
      "source": [
        "df_csv.dtypes"
      ],
      "id": "38b03054"
    },
    {
      "cell_type": "code",
      "execution_count": 7,
      "metadata": {},
      "outputs": [
        {
          "output_type": "stream",
          "name": "stdout",
          "text": [
            "df shape: (887, 8)\n",
            "df width: 8\n",
            "df height: 887"
          ]
        }
      ],
      "source": [
        "print('df shape:', df_csv.shape)\n",
        "print('df width:', df_csv.width)\n",
        "print('df height:', df_csv.height)"
      ],
      "id": "4a20591f"
    },
    {
      "cell_type": "code",
      "execution_count": 8,
      "metadata": {},
      "outputs": [
        {
          "output_type": "display_data",
          "metadata": {},
          "data": {
            "text/plain": [
              "{'Survived': {'SORTED_ASC': False, 'SORTED_DESC': False},\n",
              " 'Pclass': {'SORTED_ASC': False, 'SORTED_DESC': False},\n",
              " 'Name': {'SORTED_ASC': False, 'SORTED_DESC': False},\n",
              " 'Sex': {'SORTED_ASC': False, 'SORTED_DESC': False},\n",
              " 'Age': {'SORTED_ASC': False, 'SORTED_DESC': False},\n",
              " 'Siblings/Spouses Aboard': {'SORTED_ASC': False, 'SORTED_DESC': False},\n",
              " 'Parents/Children Aboard': {'SORTED_ASC': False, 'SORTED_DESC': False},\n",
              " 'Fare': {'SORTED_ASC': False, 'SORTED_DESC': False}}"
            ]
          }
        }
      ],
      "source": [
        "df_csv.flags"
      ],
      "id": "3b0b6db1"
    },
    {
      "cell_type": "markdown",
      "metadata": {},
      "source": [
        "Create df with schema"
      ],
      "id": "be7b0fd0-09d9-4be2-bfc6-5078cd1ec543"
    },
    {
      "cell_type": "code",
      "execution_count": 9,
      "metadata": {},
      "outputs": [
        {
          "output_type": "display_data",
          "metadata": {},
          "data": {
            "text/html": [
              "</div>"
            ]
          }
        }
      ],
      "source": [
        "import numpy as np\n",
        "\n",
        "numpy_arr = np.array([[1,1,1], [2,2,2]])\n",
        "\n",
        "df = pl.from_numpy(\n",
        "    numpy_arr,\n",
        "    schema={\n",
        "        'ones': pl.Float32,\n",
        "        'twos': pl.Int8,\n",
        "    },\n",
        "    orient='col'\n",
        ")\n",
        "\n",
        "df.head()"
      ],
      "id": "94795004"
    }
  ],
  "nbformat": 4,
  "nbformat_minor": 5,
  "metadata": {
    "kernelspec": {
      "name": "python3",
      "display_name": "Python 3 (ipykernel)",
      "language": "python",
      "path": "/opt/anaconda3/envs/ai/share/jupyter/kernels/python3"
    }
  }
}