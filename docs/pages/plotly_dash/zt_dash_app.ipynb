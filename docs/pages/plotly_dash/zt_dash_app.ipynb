{
  "cells": [
    {
      "cell_type": "markdown",
      "metadata": {},
      "source": [
        "# Dash App Test\n",
        "\n",
        "Test `Dash` app."
      ],
      "id": "5c9f9558-b53d-4afb-8f4e-385f53235ad5"
    }
  ],
  "nbformat": 4,
  "nbformat_minor": 5,
  "metadata": {
    "kernelspec": {
      "display_name": "Python 3",
      "language": "python",
      "name": "python3"
    }
  }
}