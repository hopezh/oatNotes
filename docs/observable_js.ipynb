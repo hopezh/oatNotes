{
  "cells": [
    {
      "cell_type": "markdown",
      "metadata": {},
      "source": [
        "# Using Observable.js"
      ],
      "id": "9981c3ad-c025-45b4-a0da-e6543ad8aa60"
    },
    {
      "cell_type": "code",
      "execution_count": null,
      "metadata": {},
      "outputs": [
        {
          "output_type": "display_data",
          "metadata": {},
          "data": {}
        },
        {
          "output_type": "display_data",
          "metadata": {},
          "data": {}
        }
      ],
      "source": [
        "viewof bill_length_min = Inputs.range(\n",
        "  [32, 50], \n",
        "  {value: 35, step: 1, label: \"Bill length (min):\"}\n",
        ")\n",
        "viewof islands = Inputs.checkbox(\n",
        "  [\"Torgersen\", \"Biscoe\", \"Dream\"], \n",
        "  { value: [\"Torgersen\", \"Biscoe\"], \n",
        "    label: \"Islands:\"\n",
        "  }\n",
        ")"
      ],
      "id": "f52a071f-07c5-451f-ad85-dee7c69ba0d8"
    },
    {
      "cell_type": "markdown",
      "metadata": {},
      "source": [
        "``` ojs\n",
        "filtered = data.filter(function(penguin) {\n",
        "  return bill_length_min < penguin.bill_length_mm &&\n",
        "         islands.includes(penguin.island);\n",
        "})\n",
        "```"
      ],
      "id": "65ccd7fd-eac7-4372-a3b5-b1a81b08f6d4"
    }
  ],
  "nbformat": 4,
  "nbformat_minor": 5,
  "metadata": {
    "kernelspec": {
      "display_name": "Python 3",
      "language": "python",
      "name": "python3"
    }
  }
}