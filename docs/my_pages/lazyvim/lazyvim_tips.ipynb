{
  "cells": [
    {
      "cell_type": "markdown",
      "metadata": {},
      "source": [
        "# LazyVim Tips\n",
        "\n",
        "## \\[flash.nvim\\] do regular search using `/` or `?` with jump lables\n",
        "\n",
        "``` lua\n",
        "return {\n",
        "    \"folke/flash.nvim\",\n",
        "\n",
        "    event = \"VeryLazy\",\n",
        "\n",
        "    ---@type Flash.Config\n",
        "    opts = {\n",
        "        modes = {\n",
        "            -- options used when flash is activated through\n",
        "            -- a regular search with `/` or `?`\n",
        "            search = {\n",
        "                -- when `true`, flash will be activated during regular search by default.\n",
        "                -- You can always toggle when searching with `require(\"flash\").toggle()`\n",
        "                enabled = true, \n",
        "            },\n",
        "        },\n",
        "    },\n",
        "\n",
        "    -- other settings...\n",
        "}\n",
        "```\n",
        "\n",
        "> Ref: [flash.nvim usage](https://github.com/folke/flash.nvim#-usage)"
      ],
      "id": "c6a342dc-15b6-4402-bd78-9f92caafe358"
    }
  ],
  "nbformat": 4,
  "nbformat_minor": 5,
  "metadata": {
    "kernelspec": {
      "display_name": "Python 3",
      "language": "python",
      "name": "python3"
    }
  }
}