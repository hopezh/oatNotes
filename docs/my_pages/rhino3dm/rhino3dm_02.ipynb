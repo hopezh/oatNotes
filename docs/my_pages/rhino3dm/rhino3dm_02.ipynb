{
  "cells": [
    {
      "cell_type": "markdown",
      "metadata": {},
      "source": [
        "# rhino3dm exercise 02\n",
        "\n",
        "## read `.3dm` file"
      ],
      "id": "c3494b00-b0a0-401b-a25e-902dff2875d3"
    },
    {
      "cell_type": "code",
      "execution_count": 1,
      "metadata": {},
      "outputs": [],
      "source": [
        "import rhino3dm"
      ],
      "id": "ea432058"
    },
    {
      "cell_type": "code",
      "execution_count": 2,
      "metadata": {},
      "outputs": [
        {
          "output_type": "stream",
          "name": "stdout",
          "text": [
            "rhino3dm.File3dm object:  <rhino3dm._rhino3dm.File3dm object at 0x00000120859DD5B0>"
          ]
        }
      ],
      "source": [
        "rhino_f_path = \"./data/tw_nongke.3dm\"\n",
        "file3dm_obj = rhino3dm.File3dm.Read(rhino_f_path)\n",
        "print('rhino3dm.File3dm object: ', file3dm_obj)"
      ],
      "id": "131a7c63"
    },
    {
      "cell_type": "markdown",
      "metadata": {},
      "source": [
        "## read `notes`"
      ],
      "id": "5b966edb-2050-44c4-92eb-c4c767f892da"
    },
    {
      "cell_type": "code",
      "execution_count": 3,
      "metadata": {},
      "outputs": [
        {
          "output_type": "stream",
          "name": "stdout",
          "text": [
            "name  :  TW_nongke\n",
            "lat  :  22.71610997672558\n",
            "lon  :  120.53574162642127"
          ]
        }
      ],
      "source": [
        "rhino3dm_notes = rhino3dm.File3dm.ReadNotes(rhino_f_path).split(';')[:-1]\n",
        "\n",
        "for idx, note in enumerate(rhino3dm_notes):\n",
        "    print(\n",
        "        note.strip().split(':')[0].strip(),\n",
        "        ' : ',\n",
        "        note.strip().split(':')[1].strip()\n",
        "    )"
      ],
      "id": "724c682c"
    },
    {
      "cell_type": "markdown",
      "metadata": {},
      "source": [
        "> **File3dm.ReadNotes()**\n",
        ">\n",
        "> [***method***\n",
        "> `rhino3dm.File3dm.ReadNotes()`](https://mcneel.github.io/rhino3dm/python/api/File3dm.html#rhino3dm.File3dm.ReadNotes)\n",
        ">\n",
        "> <br />\n",
        ">\n",
        "> Reads only the notes from an existing 3dm file.\n",
        ">\n",
        "> <br />\n",
        ">\n",
        "> Parameters:\n",
        ">\n",
        "> -   path (str) – The file from which to read the notes.\n",
        ">\n",
        "> Returns:\n",
        ">\n",
        "> -   The 3dm file notes.\n",
        ">\n",
        "> Return type:\n",
        ">\n",
        "> -   str\n",
        "\n",
        "## read `Layer`"
      ],
      "id": "8e68721b-f08f-41c8-861b-97492de38714"
    },
    {
      "cell_type": "code",
      "execution_count": 4,
      "metadata": {},
      "outputs": [
        {
          "output_type": "stream",
          "name": "stdout",
          "text": [
            "layer table object:  <rhino3dm._rhino3dm.File3dmLayerTable object at 0x00000120AF3B0C30>\n",
            "num of layers:  4\n",
            "\n",
            "layer  0  Object  :  <rhino3dm._rhino3dm.Layer object at 0x00000120AF844F70>\n",
            "       0  Id      :  212960d6-ad46-439d-8516-772ce85fde03\n",
            "       0  Index   :  0\n",
            "       0  Name    :  0\n",
            "       0  Fullpath:  0\n",
            "       0  Color   :  (0, 0, 0, 255)\n",
            "\n",
            "layer  1  Object  :  <rhino3dm._rhino3dm.Layer object at 0x00000120AF3790F0>\n",
            "       1  Id      :  25488de8-55a5-470b-a098-ea3c8c1220b3\n",
            "       1  Index   :  1\n",
            "       1  Name    :  cable\n",
            "       1  Fullpath:  cable\n",
            "       1  Color   :  (255, 127, 0, 255)\n",
            "\n",
            "layer  2  Object  :  <rhino3dm._rhino3dm.Layer object at 0x0000012085A03BF0>\n",
            "       2  Id      :  0428f404-44e4-47e7-ae60-72284d0a89f7\n",
            "       2  Index   :  2\n",
            "       2  Name    :  pv\n",
            "       2  Fullpath:  pv\n",
            "       2  Color   :  (0, 0, 0, 255)\n",
            "\n",
            "layer  3  Object  :  <rhino3dm._rhino3dm.Layer object at 0x0000012085A7F970>\n",
            "       3  Id      :  6f40c8fc-3378-4efb-a590-0af0bf5a85dc\n",
            "       3  Index   :  3\n",
            "       3  Name    :  num\n",
            "       3  Fullpath:  num\n",
            "       3  Color   :  (0, 0, 0, 255)\n"
          ]
        }
      ],
      "source": [
        "layer_table = file3dm_obj.Layers\n",
        "print('layer table object: ', layer_table)\n",
        "print('num of layers: ', len(layer_table))\n",
        "print()\n",
        "\n",
        "for idx, layer in enumerate(iter(layer_table)):\n",
        "    print('layer ', idx, ' Object  : ', layer)\n",
        "    print('      ', idx, ' Id      : ', layer.Id)\n",
        "    print('      ', idx, ' Index   : ', layer.Index)\n",
        "    print('      ', idx, ' Name    : ', layer.Name)\n",
        "    print('      ', idx, ' Fullpath: ', layer.FullPath)\n",
        "    print('      ', idx, ' Color   : ', layer.Color)\n",
        "    print()"
      ],
      "id": "3e62e1da"
    },
    {
      "cell_type": "markdown",
      "metadata": {},
      "source": [
        "## read `Objects` on the `pv` layer"
      ],
      "id": "160e529a-9b07-484b-b1b3-80f43a2e205b"
    },
    {
      "cell_type": "code",
      "execution_count": 5,
      "metadata": {},
      "outputs": [
        {
          "output_type": "stream",
          "name": "stdout",
          "text": [
            "object table:  <rhino3dm._rhino3dm.File3dmObjectTable object at 0x00000120AF36BFB0> \n",
            "\n",
            "object  74  Object                :  <rhino3dm._rhino3dm.File3dmObject object at 0x0000012085A7ABF0>\n",
            "        74  Geometry              :  <rhino3dm._rhino3dm.PolylineCurve object at 0x00000120AF36AAB0>\n",
            "        74  Attributes            :  <rhino3dm._rhino3dm.ObjectAttributes object at 0x00000120AF36AAB0>\n",
            "        74  Attributes.Id         :  36f08c55-5986-4aa2-b0b8-ae56b26b043c\n",
            "        74  Attributes.Name       :  \n",
            "        74  Attributes.LayerIndex :  2\n",
            "        74  Attributes.ObjectColor:  (0, 0, 0, 255)\n",
            "        74  Attributes.Visible    :  True\n",
            "\n",
            "object  75  Object                :  <rhino3dm._rhino3dm.File3dmObject object at 0x00000120AD5C1AB0>\n",
            "        75  Geometry              :  <rhino3dm._rhino3dm.PolylineCurve object at 0x0000012085A7ABF0>\n",
            "        75  Attributes            :  <rhino3dm._rhino3dm.ObjectAttributes object at 0x0000012085A7ABF0>\n",
            "        75  Attributes.Id         :  2a5e0e48-e0ca-4d27-896e-1d3f2435645e\n",
            "        75  Attributes.Name       :  \n",
            "        75  Attributes.LayerIndex :  2\n",
            "        75  Attributes.ObjectColor:  (0, 0, 0, 255)\n",
            "        75  Attributes.Visible    :  True\n",
            "\n",
            "object  76  Object                :  <rhino3dm._rhino3dm.File3dmObject object at 0x00000120AD37EEF0>\n",
            "        76  Geometry              :  <rhino3dm._rhino3dm.PolylineCurve object at 0x00000120AD5C1AB0>\n",
            "        76  Attributes            :  <rhino3dm._rhino3dm.ObjectAttributes object at 0x00000120AD5C1AB0>\n",
            "        76  Attributes.Id         :  56851944-a49b-49bc-af4f-44c779262974\n",
            "        76  Attributes.Name       :  \n",
            "        76  Attributes.LayerIndex :  2\n",
            "        76  Attributes.ObjectColor:  (0, 0, 0, 255)\n",
            "        76  Attributes.Visible    :  True\n"
          ]
        }
      ],
      "source": [
        "object_table = file3dm_obj.Objects\n",
        "print('object table: ', object_table, '\\n')\n",
        "\n",
        "for idx, obj in enumerate(iter(object_table)):\n",
        "    if idx < 77 and obj.Attributes.LayerIndex == 2:\n",
        "        print('object ', idx, ' Object                : ', obj)\n",
        "        print('       ', idx, ' Geometry              : ', obj.Geometry)\n",
        "        print('       ', idx, ' Attributes            : ', obj.Attributes)\n",
        "        print('       ', idx, ' Attributes.Id         : ', obj.Attributes.Id)\n",
        "        print('       ', idx, ' Attributes.Name       : ', obj.Attributes.Name)\n",
        "        print('       ', idx, ' Attributes.LayerIndex : ', obj.Attributes.LayerIndex)\n",
        "        print('       ', idx, ' Attributes.ObjectColor: ', obj.Attributes.ObjectColor)\n",
        "        print('       ', idx, ' Attributes.Visible    : ', obj.Attributes.Visible)\n",
        "        print()\n",
        "    else:\n",
        "        pass"
      ],
      "id": "84ab6541"
    }
  ],
  "nbformat": 4,
  "nbformat_minor": 5,
  "metadata": {
    "kernelspec": {
      "name": "python3",
      "display_name": "Python 3 (ipykernel)",
      "language": "python"
    }
  }
}