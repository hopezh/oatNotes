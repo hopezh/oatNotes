{
  "cells": [
    {
      "cell_type": "markdown",
      "metadata": {},
      "source": [
        "# rhino3dm exercise 02\n",
        "\n",
        "## read `.3dm` file"
      ],
      "id": "2083cbf9-6b26-4355-a815-c73f540a5b86"
    },
    {
      "cell_type": "code",
      "execution_count": 1,
      "metadata": {},
      "outputs": [],
      "source": [
        "import rhino3dm"
      ],
      "id": "cffd9548"
    },
    {
      "cell_type": "code",
      "execution_count": 2,
      "metadata": {},
      "outputs": [
        {
          "output_type": "stream",
          "name": "stdout",
          "text": [
            "rhino3dm.File3dm object:  <rhino3dm._rhino3dm.File3dm object at 0x000001791DA08C30>"
          ]
        }
      ],
      "source": [
        "rhino_f_path = \"./data/nongke.3dm\"\n",
        "file3dm_obj = rhino3dm.File3dm.Read(rhino_f_path)\n",
        "print('rhino3dm.File3dm object: ', file3dm_obj)"
      ],
      "id": "9c459c44"
    },
    {
      "cell_type": "markdown",
      "metadata": {},
      "source": [
        "## read `notes`"
      ],
      "id": "c8c6888c-d534-48a9-b897-979a608bf2e9"
    },
    {
      "cell_type": "code",
      "execution_count": 3,
      "metadata": {},
      "outputs": [
        {
          "output_type": "stream",
          "name": "stdout",
          "text": [
            "name  :  nongke\n",
            "lati  :  22.71610997672558\n",
            "long  :  120.53574162642127"
          ]
        }
      ],
      "source": [
        "file3dm_notes = rhino3dm.File3dm.ReadNotes(rhino_f_path).split(';')[:-1]\n",
        "\n",
        "for idx, note in enumerate(file3dm_notes):\n",
        "    print(\n",
        "        note.strip().split(':')[0].strip(),\n",
        "        ' : ',\n",
        "        note.strip().split(':')[1].strip()\n",
        "    )"
      ],
      "id": "c8551784"
    },
    {
      "cell_type": "markdown",
      "metadata": {},
      "source": [
        "> **File3dm.ReadNotes()**\n",
        ">\n",
        "> [***method***\n",
        "> `rhino3dm.File3dm.ReadNotes()`](https://mcneel.github.io/rhino3dm/python/api/File3dm.html#rhino3dm.File3dm.ReadNotes)\n",
        ">\n",
        "> <br />\n",
        ">\n",
        "> Reads only the notes from an existing 3dm file.\n",
        ">\n",
        "> <br />\n",
        ">\n",
        "> Parameters:\n",
        ">\n",
        "> -   path (str) – The file from which to read the notes.\n",
        ">\n",
        "> Returns:\n",
        ">\n",
        "> -   The 3dm file notes.\n",
        ">\n",
        "> Return type:\n",
        ">\n",
        "> -   str\n",
        "\n",
        "## read `Layer`"
      ],
      "id": "095783c2-9ccf-4151-8534-7c7cbfb86a57"
    },
    {
      "cell_type": "code",
      "execution_count": 4,
      "metadata": {},
      "outputs": [
        {
          "output_type": "stream",
          "name": "stdout",
          "text": [
            "layer table object:  <rhino3dm._rhino3dm.File3dmLayerTable object at 0x000001791F6057F0>\n",
            "num of layers:  4\n",
            "\n",
            "layer  0  Object  :  <rhino3dm._rhino3dm.Layer object at 0x000001791F607130>\n",
            "       0  Id      :  212960d6-ad46-439d-8516-772ce85fde03\n",
            "       0  Index   :  0\n",
            "       0  Name    :  0\n",
            "       0  Fullpath:  0\n",
            "       0  Color   :  (0, 0, 0, 255)\n",
            "\n",
            "layer  1  Object  :  <rhino3dm._rhino3dm.Layer object at 0x000001791F605AB0>\n",
            "       1  Id      :  25488de8-55a5-470b-a098-ea3c8c1220b3\n",
            "       1  Index   :  1\n",
            "       1  Name    :  cable\n",
            "       1  Fullpath:  cable\n",
            "       1  Color   :  (255, 191, 0, 255)\n",
            "\n",
            "layer  2  Object  :  <rhino3dm._rhino3dm.Layer object at 0x000001791F6416B0>\n",
            "       2  Id      :  0428f404-44e4-47e7-ae60-72284d0a89f7\n",
            "       2  Index   :  2\n",
            "       2  Name    :  pv\n",
            "       2  Fullpath:  pv\n",
            "       2  Color   :  (0, 0, 0, 255)\n",
            "\n",
            "layer  3  Object  :  <rhino3dm._rhino3dm.Layer object at 0x000001791F643F70>\n",
            "       3  Id      :  6f40c8fc-3378-4efb-a590-0af0bf5a85dc\n",
            "       3  Index   :  3\n",
            "       3  Name    :  num\n",
            "       3  Fullpath:  num\n",
            "       3  Color   :  (255, 127, 0, 255)\n"
          ]
        }
      ],
      "source": [
        "layer_table = file3dm_obj.Layers\n",
        "print('layer table object: ', layer_table)\n",
        "print('num of layers: ', len(layer_table))\n",
        "print()\n",
        "\n",
        "for idx, layer in enumerate(iter(layer_table)):\n",
        "    print('layer ', idx, ' Object  : ', layer)\n",
        "    print('      ', idx, ' Id      : ', layer.Id)\n",
        "    print('      ', idx, ' Index   : ', layer.Index)\n",
        "    print('      ', idx, ' Name    : ', layer.Name)\n",
        "    print('      ', idx, ' Fullpath: ', layer.FullPath)\n",
        "    print('      ', idx, ' Color   : ', layer.Color)\n",
        "    print()"
      ],
      "id": "a21cc8c7"
    },
    {
      "cell_type": "markdown",
      "metadata": {},
      "source": [
        "## read `ObjectsTable` in the `File3dm` object"
      ],
      "id": "c1b48c33-f522-48d4-abee-f71478ddbe1c"
    },
    {
      "cell_type": "code",
      "execution_count": 5,
      "metadata": {},
      "outputs": [
        {
          "output_type": "stream",
          "name": "stdout",
          "text": [
            "object table:  <rhino3dm._rhino3dm.File3dmObjectTable object at 0x000001791D7370B0> \n"
          ]
        }
      ],
      "source": [
        "object_table = file3dm_obj.Objects\n",
        "print('object table: ', object_table, '\\n')"
      ],
      "id": "78f0e018"
    },
    {
      "cell_type": "markdown",
      "metadata": {},
      "source": [
        "## read `Geometry` on the `pv` layer"
      ],
      "id": "08873e0b-2218-4cdc-8c27-2e5208ccc05b"
    },
    {
      "cell_type": "code",
      "execution_count": 6,
      "metadata": {},
      "outputs": [
        {
          "output_type": "stream",
          "name": "stdout",
          "text": [
            "object  72  Object                :  <rhino3dm._rhino3dm.File3dmObject object at 0x000001792661E3B0>\n",
            "        72  Geometry              :  <rhino3dm._rhino3dm.PolylineCurve object at 0x000001791FAF6EF0>\n",
            "        72  Attributes            :  <rhino3dm._rhino3dm.ObjectAttributes object at 0x000001791FAF6EF0>\n",
            "        72  Attributes.Id         :  36f08c55-5986-4aa2-b0b8-ae56b26b043c\n",
            "        72  Attributes.Name       :  \n",
            "        72  Attributes.LayerIndex :  2\n",
            "        72  Attributes.ObjectColor:  (0, 0, 0, 255)\n",
            "        72  Attributes.Visible    :  True\n",
            "\n",
            "            curve IsClosed     : True\n",
            "            curve IsPlanar     : True\n",
            "            curve IsPolyline   : True\n",
            "\n",
            "            curve PointCount   : 5\n",
            "            curve pt  0  :  35.10614556790845,209.9589626310085,0.0\n",
            "            curve pt  1  :  35.28014104193071,210.94573999952675,0.0\n",
            "            curve pt  2  :  36.95467106254545,210.65047517688606,0.0\n",
            "            curve pt  3  :  36.78067558852319,209.6636978083678,0.0\n",
            "            curve pt  4  :  35.10614556790845,209.9589626310085,0.0\n",
            "\n",
            "            curve SegmentCount : 4\n",
            "            segement  0  :  <rhino3dm._rhino3dm.LineCurve object at 0x000001791FAF6EF0>\n",
            "            segement  1  :  <rhino3dm._rhino3dm.LineCurve object at 0x000001791FAF6EF0>\n",
            "            segement  2  :  <rhino3dm._rhino3dm.LineCurve object at 0x000001791FAF6EF0>\n",
            "            segement  3  :  <rhino3dm._rhino3dm.LineCurve object at 0x000001791FAF6EF0>\n",
            "\n",
            "object  73  Object                :  <rhino3dm._rhino3dm.File3dmObject object at 0x000001792661E9F0>\n",
            "        73  Geometry              :  <rhino3dm._rhino3dm.PolylineCurve object at 0x000001791FAF6EF0>\n",
            "        73  Attributes            :  <rhino3dm._rhino3dm.ObjectAttributes object at 0x000001791FAF6EF0>\n",
            "        73  Attributes.Id         :  2a5e0e48-e0ca-4d27-896e-1d3f2435645e\n",
            "        73  Attributes.Name       :  \n",
            "        73  Attributes.LayerIndex :  2\n",
            "        73  Attributes.ObjectColor:  (0, 0, 0, 255)\n",
            "        73  Attributes.Visible    :  True\n",
            "\n",
            "            curve IsClosed     : True\n",
            "            curve IsPlanar     : True\n",
            "            curve IsPolyline   : True\n",
            "\n",
            "            curve PointCount   : 5\n",
            "            curve pt  0  :  99.74743231227566,208.92053051678556,0.0\n",
            "            curve pt  1  :  99.92142776982108,209.90730779185895,0.0\n",
            "            curve pt  2  :  101.59595209030033,209.61204397430595,0.0\n",
            "            curve pt  3  :  101.4219566327549,208.62526669923255,0.0\n",
            "            curve pt  4  :  99.74743231227566,208.92053051678556,0.0\n",
            "\n",
            "            curve SegmentCount : 4\n",
            "            segement  0  :  <rhino3dm._rhino3dm.LineCurve object at 0x000001791FAF6EF0>\n",
            "            segement  1  :  <rhino3dm._rhino3dm.LineCurve object at 0x000001791FAF6EF0>\n",
            "            segement  2  :  <rhino3dm._rhino3dm.LineCurve object at 0x000001791FAF6EF0>\n",
            "            segement  3  :  <rhino3dm._rhino3dm.LineCurve object at 0x000001791FAF6EF0>\n",
            "\n",
            "object  74  Object                :  <rhino3dm._rhino3dm.File3dmObject object at 0x000001792661F6B0>\n",
            "        74  Geometry              :  <rhino3dm._rhino3dm.PolylineCurve object at 0x000001791FAF6EF0>\n",
            "        74  Attributes            :  <rhino3dm._rhino3dm.ObjectAttributes object at 0x000001791FAF6EF0>\n",
            "        74  Attributes.Id         :  56851944-a49b-49bc-af4f-44c779262974\n",
            "        74  Attributes.Name       :  \n",
            "        74  Attributes.LayerIndex :  2\n",
            "        74  Attributes.ObjectColor:  (0, 0, 0, 255)\n",
            "        74  Attributes.Visible    :  True\n",
            "\n",
            "            curve IsClosed     : True\n",
            "            curve IsPlanar     : True\n",
            "            curve IsPolyline   : True\n",
            "\n",
            "            curve PointCount   : 5\n",
            "            curve pt  0  :  91.36944042680591,198.12663899455657,0.0\n",
            "            curve pt  1  :  91.54343588435134,199.11341626962997,0.0\n",
            "            curve pt  2  :  93.21797160510158,198.81815044190162,0.0\n",
            "            curve pt  3  :  93.04397614755615,197.83137316682823,0.0\n",
            "            curve pt  4  :  91.36944042680591,198.12663899455657,0.0\n",
            "\n",
            "            curve SegmentCount : 4\n",
            "            segement  0  :  <rhino3dm._rhino3dm.LineCurve object at 0x000001791FAF6EF0>\n",
            "            segement  1  :  <rhino3dm._rhino3dm.LineCurve object at 0x000001791FAF6EF0>\n",
            "            segement  2  :  <rhino3dm._rhino3dm.LineCurve object at 0x000001791FAF6EF0>\n",
            "            segement  3  :  <rhino3dm._rhino3dm.LineCurve object at 0x000001791FAF6EF0>\n",
            "\n",
            "total num of pv:  2400"
          ]
        }
      ],
      "source": [
        "layer_idx_of_pv = 2\n",
        "cnt_pv = 0\n",
        "max_num_obj = 3\n",
        "total_num_pv = 0\n",
        "\n",
        "for idx, obj in enumerate(iter(object_table)):\n",
        "    # print the first 3 obj on a layer\n",
        "    if (obj.Attributes.LayerIndex == layer_idx_of_pv) and (cnt_pv < max_num_obj):\n",
        "        print('object ', idx, ' Object                : ', obj)\n",
        "        print('       ', idx, ' Geometry              : ', obj.Geometry)\n",
        "        print('       ', idx, ' Attributes            : ', obj.Attributes)\n",
        "        print('       ', idx, ' Attributes.Id         : ', obj.Attributes.Id)\n",
        "        print('       ', idx, ' Attributes.Name       : ', obj.Attributes.Name)\n",
        "        print('       ', idx, ' Attributes.LayerIndex : ', obj.Attributes.LayerIndex)\n",
        "        print('       ', idx, ' Attributes.ObjectColor: ', obj.Attributes.ObjectColor)\n",
        "        print('       ', idx, ' Attributes.Visible    : ', obj.Attributes.Visible)\n",
        "        print()\n",
        "\n",
        "        # if geom is PolylineCurve, print its details\n",
        "        if isinstance(obj.Geometry, rhino3dm.PolylineCurve):\n",
        "            print('            curve IsClosed     :', obj.Geometry.IsClosed)\n",
        "            print('            curve IsPlanar     :', obj.Geometry.IsPlanar())\n",
        "            print('            curve IsPolyline   :', obj.Geometry.IsPolyline())\n",
        "            print()\n",
        "\n",
        "            print('            curve PointCount   :', obj.Geometry.PointCount)\n",
        "            \n",
        "            for i in range(obj.Geometry.PointCount):\n",
        "                print('            curve pt ', i, ' : ', obj.Geometry.Point(i))\n",
        "                # print('           curve pt ', i, ' : ', obj.Geometry.ToPolyline().PointAt(i)) -- alternative\n",
        "\n",
        "            print()\n",
        "\n",
        "            print('            curve SegmentCount :', obj.Geometry.ToPolyline().SegmentCount)\n",
        "\n",
        "            for i in range(obj.Geometry.ToPolyline().SegmentCount):\n",
        "                print('            segement ', i, ' : ', obj.Geometry.ToPolyline().SegmentAt(i))\n",
        "\n",
        "            print()\n",
        "\n",
        "        cnt_pv += 1\n",
        "    else:\n",
        "        pass\n",
        "\n",
        "for idx, obj in enumerate(iter(object_table)):\n",
        "    if (obj.Attributes.LayerIndex == layer_idx_of_pv):\n",
        "        total_num_pv += 1\n",
        "\n",
        "print('total num of pv: ', total_num_pv)"
      ],
      "id": "7a0a976f"
    },
    {
      "cell_type": "markdown",
      "metadata": {},
      "source": [
        "## read `Text`"
      ],
      "id": "d321e9e0-d846-4853-b027-ea0b34acdad9"
    },
    {
      "cell_type": "code",
      "execution_count": 7,
      "metadata": {},
      "outputs": [
        {
          "output_type": "stream",
          "name": "stdout",
          "text": [
            "object  2472  Object                  :  <rhino3dm._rhino3dm.File3dmObject object at 0x000001791F600EB0>\n",
            "        2472  Geometry                :  <rhino3dm._rhino3dm.AnnotationBase object at 0x000001791F6415B0>\n",
            "        2472  Attributes              :  <rhino3dm._rhino3dm.ObjectAttributes object at 0x000001791F6415B0>\n",
            "        2472  Attributes.Id           :  331127a8-6c28-4a2e-b56b-6d8c0879f793\n",
            "        2472  Attributes.Name         :  \n",
            "        2472  Attributes.LayerIndex   :  3\n",
            "        2472  Attributes.ObjectColor  :  (0, 0, 0, 255)\n",
            "        2472  Attributes.Visible      :  True\n",
            "\n",
            "            Geometry.PlainText     :  5-5-9\n",
            "\n",
            "object  2473  Object                  :  <rhino3dm._rhino3dm.File3dmObject object at 0x000001791F6197F0>\n",
            "        2473  Geometry                :  <rhino3dm._rhino3dm.AnnotationBase object at 0x000001791F600EB0>\n",
            "        2473  Attributes              :  <rhino3dm._rhino3dm.ObjectAttributes object at 0x000001791F600EB0>\n",
            "        2473  Attributes.Id           :  889cae8f-6c0e-4199-b2e2-1852feccefb4\n",
            "        2473  Attributes.Name         :  \n",
            "        2473  Attributes.LayerIndex   :  3\n",
            "        2473  Attributes.ObjectColor  :  (0, 0, 0, 255)\n",
            "        2473  Attributes.Visible      :  True\n",
            "\n",
            "            Geometry.PlainText     :  2-2-5\n",
            "\n",
            "object  2474  Object                  :  <rhino3dm._rhino3dm.File3dmObject object at 0x000001791FAF7130>\n",
            "        2474  Geometry                :  <rhino3dm._rhino3dm.AnnotationBase object at 0x000001791F6197F0>\n",
            "        2474  Attributes              :  <rhino3dm._rhino3dm.ObjectAttributes object at 0x000001791F6197F0>\n",
            "        2474  Attributes.Id           :  937bb06e-49ff-4687-8b42-97ea498f93a0\n",
            "        2474  Attributes.Name         :  \n",
            "        2474  Attributes.LayerIndex   :  3\n",
            "        2474  Attributes.ObjectColor  :  (0, 0, 0, 255)\n",
            "        2474  Attributes.Visible      :  True\n",
            "\n",
            "            Geometry.PlainText     :  8-8-6\n",
            "\n",
            "total num of text:  72"
          ]
        }
      ],
      "source": [
        "layer_idx_of_num = 3\n",
        "cnt_text = 0\n",
        "max_num_obj = 3\n",
        "total_num_text = 0\n",
        "\n",
        "for idx, obj in enumerate(iter(object_table)):\n",
        "    if (obj.Attributes.LayerIndex == layer_idx_of_num) and (cnt_text < max_num_obj):\n",
        "        print('object ', idx, ' Object                  : ', obj)\n",
        "        print('       ', idx, ' Geometry                : ', obj.Geometry)\n",
        "        print('       ', idx, ' Attributes              : ', obj.Attributes)\n",
        "        print('       ', idx, ' Attributes.Id           : ', obj.Attributes.Id)\n",
        "        print('       ', idx, ' Attributes.Name         : ', obj.Attributes.Name)\n",
        "        print('       ', idx, ' Attributes.LayerIndex   : ', obj.Attributes.LayerIndex)\n",
        "        print('       ', idx, ' Attributes.ObjectColor  : ', obj.Attributes.ObjectColor)\n",
        "        print('       ', idx, ' Attributes.Visible      : ', obj.Attributes.Visible)\n",
        "        print()\n",
        "\n",
        "        # if geom is AnnotationBase, print its PlainText\n",
        "        if isinstance(obj.Geometry, rhino3dm.AnnotationBase):\n",
        "            print('            Geometry.PlainText     : ', obj.Geometry.PlainText)\n",
        "            print()\n",
        "\n",
        "        cnt_text += 1\n",
        "\n",
        "for idx, obj in enumerate(iter(object_table)):\n",
        "    if (obj.Attributes.LayerIndex == layer_idx_of_num):\n",
        "        total_num_text += 1\n",
        "\n",
        "print('total num of text: ', total_num_text)"
      ],
      "id": "e1aead97"
    }
  ],
  "nbformat": 4,
  "nbformat_minor": 5,
  "metadata": {
    "kernelspec": {
      "name": "python3",
      "display_name": "Python 3 (ipykernel)",
      "language": "python"
    }
  }
}