{
  "cells": [
    {
      "cell_type": "markdown",
      "metadata": {},
      "source": [
        "# rhino3dm exercise 02\n",
        "\n",
        "## import and util funcs"
      ],
      "id": "7d82e890-64fd-4ca6-9e51-b3e64faba87d"
    },
    {
      "cell_type": "code",
      "execution_count": 1,
      "metadata": {},
      "outputs": [
        {
          "output_type": "stream",
          "name": "stdout",
          "text": [
            "rhino3dm ver:  8.6.0"
          ]
        }
      ],
      "source": [
        "import rhino3dm\n",
        "from dataclasses import dataclass, field\n",
        "import random\n",
        "import string\n",
        "\n",
        "print('rhino3dm ver: ', rhino3dm.__version__)\n",
        "\n",
        "def generate_id() -> str:\n",
        "    return \"\".join(random.choices(string.ascii_lowercase, k=12))"
      ],
      "id": "db8afeab"
    },
    {
      "cell_type": "markdown",
      "metadata": {},
      "source": [
        "## read `.3dm` file"
      ],
      "id": "aa2b3e49-363f-4fd5-81f3-2cbdd1545291"
    },
    {
      "cell_type": "code",
      "execution_count": 2,
      "metadata": {},
      "outputs": [
        {
          "output_type": "stream",
          "name": "stdout",
          "text": [
            "rhino3dm.File3dm object:  <rhino3dm._rhino3dm.File3dm object at 0x000001661ABD0DF0>"
          ]
        }
      ],
      "source": [
        "rhino_f_path = \"./data/nongke.3dm\"\n",
        "file3dm_obj = rhino3dm.File3dm.Read(rhino_f_path)\n",
        "print('rhino3dm.File3dm object: ', file3dm_obj)"
      ],
      "id": "9341ff0e"
    },
    {
      "cell_type": "markdown",
      "metadata": {},
      "source": [
        "## read `notes`"
      ],
      "id": "13582df8-28ff-4f98-92f2-c0e9759b6c35"
    },
    {
      "cell_type": "code",
      "execution_count": 3,
      "metadata": {},
      "outputs": [
        {
          "output_type": "stream",
          "name": "stdout",
          "text": [
            "name  :  nongke\n",
            "lati  :  20\n",
            "long  :  100"
          ]
        }
      ],
      "source": [
        "file3dm_notes = rhino3dm.File3dm.ReadNotes(rhino_f_path).split(';')[:-1]\n",
        "\n",
        "for idx, note in enumerate(file3dm_notes):\n",
        "    print(\n",
        "        note.strip().split(':')[0].strip(),\n",
        "        ' : ',\n",
        "        note.strip().split(':')[1].strip()\n",
        "    )"
      ],
      "id": "4eeaebe1"
    },
    {
      "cell_type": "markdown",
      "metadata": {},
      "source": [
        "> **File3dm.ReadNotes()**\n",
        ">\n",
        "> [***method***\n",
        "> `rhino3dm.File3dm.ReadNotes()`](https://mcneel.github.io/rhino3dm/python/api/File3dm.html#rhino3dm.File3dm.ReadNotes)\n",
        ">\n",
        "> <br />\n",
        ">\n",
        "> Reads only the notes from an existing 3dm file.\n",
        ">\n",
        "> <br />\n",
        ">\n",
        "> Parameters:\n",
        ">\n",
        "> -   path (str) – The file from which to read the notes.\n",
        ">\n",
        "> Returns:\n",
        ">\n",
        "> -   The 3dm file notes.\n",
        ">\n",
        "> Return type:\n",
        ">\n",
        "> -   str\n",
        "\n",
        "## read `Layer`"
      ],
      "id": "481f5f9a-589d-4e9d-8bb7-58f639a61ef3"
    },
    {
      "cell_type": "code",
      "execution_count": 4,
      "metadata": {},
      "outputs": [
        {
          "output_type": "stream",
          "name": "stdout",
          "text": [
            "layer table object:  <rhino3dm._rhino3dm.File3dmLayerTable object at 0x000001661B0D6630>\n",
            "num of layers:  6\n",
            "\n",
            "layer  0  Object  :  <rhino3dm._rhino3dm.Layer object at 0x000001661B0D6B30>\n",
            "       0  Id      :  212960d6-ad46-439d-8516-772ce85fde03\n",
            "       0  Index   :  0\n",
            "       0  Name    :  0\n",
            "       0  Fullpath:  0\n",
            "       0  Color   :  (0, 0, 0, 255)\n",
            "\n",
            "layer  1  Object  :  <rhino3dm._rhino3dm.Layer object at 0x000001661B0D77B0>\n",
            "       1  Id      :  25488de8-55a5-470b-a098-ea3c8c1220b3\n",
            "       1  Index   :  1\n",
            "       1  Name    :  cable\n",
            "       1  Fullpath:  cable\n",
            "       1  Color   :  (255, 191, 0, 255)\n",
            "\n",
            "layer  2  Object  :  <rhino3dm._rhino3dm.Layer object at 0x000001661B0D45F0>\n",
            "       2  Id      :  33892670-4a65-4460-9e7e-78d057c02742\n",
            "       2  Index   :  2\n",
            "       2  Name    :  pt\n",
            "       2  Fullpath:  pt\n",
            "       2  Color   :  (0, 0, 0, 255)\n",
            "\n",
            "layer  3  Object  :  <rhino3dm._rhino3dm.Layer object at 0x000001661B0D4F70>\n",
            "       3  Id      :  c0c0bbb7-2adb-4301-8c42-c09459068132\n",
            "       3  Index   :  3\n",
            "       3  Name    :  pv_surf\n",
            "       3  Fullpath:  pv_surf\n",
            "       3  Color   :  (191, 191, 255, 255)\n",
            "\n",
            "layer  4  Object  :  <rhino3dm._rhino3dm.Layer object at 0x000001661B0D4E70>\n",
            "       4  Id      :  0428f404-44e4-47e7-ae60-72284d0a89f7\n",
            "       4  Index   :  4\n",
            "       4  Name    :  pv\n",
            "       4  Fullpath:  pv\n",
            "       4  Color   :  (0, 0, 0, 255)\n",
            "\n",
            "layer  5  Object  :  <rhino3dm._rhino3dm.Layer object at 0x000001661B0B7DF0>\n",
            "       5  Id      :  6f40c8fc-3378-4efb-a590-0af0bf5a85dc\n",
            "       5  Index   :  5\n",
            "       5  Name    :  text\n",
            "       5  Fullpath:  text\n",
            "       5  Color   :  (255, 127, 0, 255)\n"
          ]
        }
      ],
      "source": [
        "layer_table = file3dm_obj.Layers\n",
        "print('layer table object: ', layer_table)\n",
        "print('num of layers: ', len(layer_table))\n",
        "print()\n",
        "\n",
        "for idx, layer in enumerate(iter(layer_table)):\n",
        "    print('layer ', idx, ' Object  : ', layer)\n",
        "    print('      ', idx, ' Id      : ', layer.Id)\n",
        "    print('      ', idx, ' Index   : ', layer.Index)\n",
        "    print('      ', idx, ' Name    : ', layer.Name)\n",
        "    print('      ', idx, ' Fullpath: ', layer.FullPath)\n",
        "    print('      ', idx, ' Color   : ', layer.Color)\n",
        "    print()"
      ],
      "id": "2a42b211"
    },
    {
      "cell_type": "markdown",
      "metadata": {},
      "source": [
        "## read `ObjectsTable` in the `File3dm` object"
      ],
      "id": "63779c2b-3cc6-484c-8f47-4dffacde9605"
    },
    {
      "cell_type": "code",
      "execution_count": 5,
      "metadata": {},
      "outputs": [
        {
          "output_type": "stream",
          "name": "stdout",
          "text": [
            "object table:  <rhino3dm._rhino3dm.File3dmObjectTable object at 0x000001661B0D6F70> \n"
          ]
        }
      ],
      "source": [
        "object_table = file3dm_obj.Objects\n",
        "print('object table: ', object_table, '\\n')"
      ],
      "id": "f8aa392f"
    },
    {
      "cell_type": "markdown",
      "metadata": {},
      "source": [
        "## create `OatPV` class"
      ],
      "id": "ab8479a6-2f08-4e3f-a0e4-bde838ad0457"
    },
    {
      "cell_type": "code",
      "execution_count": 6,
      "metadata": {},
      "outputs": [],
      "source": [
        "@dataclass\n",
        "class OatPV:\n",
        "    idx: int\n",
        "    outline: rhino3dm.PolylineCurve\n",
        "    str_num: str = ''\n",
        "    id: str = field(default_factory=generate_id)"
      ],
      "id": "40c5c2e8"
    },
    {
      "cell_type": "markdown",
      "metadata": {},
      "source": [
        "## read `Geometry` on the `pv` layer"
      ],
      "id": "3d614370-de84-4dc9-aca0-b9d10b1dba3e"
    },
    {
      "cell_type": "code",
      "execution_count": 7,
      "metadata": {},
      "outputs": [
        {
          "output_type": "stream",
          "name": "stdout",
          "text": [
            "object  2547  Object                :  <rhino3dm._rhino3dm.File3dmObject object at 0x000001661AC0E1F0>\n",
            "        2547  Geometry              :  <rhino3dm._rhino3dm.Brep object at 0x000001661B0B54B0>\n",
            "        2547  Attributes            :  <rhino3dm._rhino3dm.ObjectAttributes object at 0x000001661B0B54B0>\n",
            "        2547  Attributes.Id         :  9f7de04f-c267-4afb-8834-cd6dd24f42a0\n",
            "        2547  Attributes.Name       :  \n",
            "        2547  Attributes.LayerIndex :  3\n",
            "        2547  Attributes.ObjectColor:  (0, 0, 0, 255)\n",
            "        2547  Attributes.Visible    :  True\n",
            "\n",
            "object  2548  Object                :  <rhino3dm._rhino3dm.File3dmObject object at 0x00000166712E49F0>\n",
            "        2548  Geometry              :  <rhino3dm._rhino3dm.Brep object at 0x000001661AC0E1F0>\n",
            "        2548  Attributes            :  <rhino3dm._rhino3dm.ObjectAttributes object at 0x000001661AC0E1F0>\n",
            "        2548  Attributes.Id         :  ad6b16b1-4afc-47b5-af38-7ae30d9f379b\n",
            "        2548  Attributes.Name       :  \n",
            "        2548  Attributes.LayerIndex :  3\n",
            "        2548  Attributes.ObjectColor:  (0, 0, 0, 255)\n",
            "        2548  Attributes.Visible    :  True\n",
            "\n",
            "object  2549  Object                :  <rhino3dm._rhino3dm.File3dmObject object at 0x00000166712E4870>\n",
            "        2549  Geometry              :  <rhino3dm._rhino3dm.Brep object at 0x000001661AC0E1F0>\n",
            "        2549  Attributes            :  <rhino3dm._rhino3dm.ObjectAttributes object at 0x000001661AC0E1F0>\n",
            "        2549  Attributes.Id         :  aeee4a3f-a4d5-4ac9-a5ba-c606eb9cb171\n",
            "        2549  Attributes.Name       :  \n",
            "        2549  Attributes.LayerIndex :  3\n",
            "        2549  Attributes.ObjectColor:  (0, 0, 0, 255)\n",
            "        2549  Attributes.Visible    :  True\n",
            "\n",
            "total num of pv:  2400\n"
          ]
        }
      ],
      "source": [
        "layer_idx_of_pv = 3\n",
        "cnt_pv = 0\n",
        "max_num_obj = 3\n",
        "total_num_pv = 0\n",
        "\n",
        "oatPV_list = []\n",
        "\n",
        "for idx, obj in enumerate(iter(object_table)):\n",
        "    # print the first 3 obj on a layer\n",
        "    if (obj.Attributes.LayerIndex == layer_idx_of_pv) and (cnt_pv < max_num_obj):\n",
        "        print('object ', idx, ' Object                : ', obj)\n",
        "        print('       ', idx, ' Geometry              : ', obj.Geometry)\n",
        "        print('       ', idx, ' Attributes            : ', obj.Attributes)\n",
        "        print('       ', idx, ' Attributes.Id         : ', obj.Attributes.Id)\n",
        "        print('       ', idx, ' Attributes.Name       : ', obj.Attributes.Name)\n",
        "        print('       ', idx, ' Attributes.LayerIndex : ', obj.Attributes.LayerIndex)\n",
        "        print('       ', idx, ' Attributes.ObjectColor: ', obj.Attributes.ObjectColor)\n",
        "        print('       ', idx, ' Attributes.Visible    : ', obj.Attributes.Visible)\n",
        "        print()\n",
        "\n",
        "        # if geom is PolylineCurve, print its details\n",
        "        if isinstance(obj.Geometry, rhino3dm.PolylineCurve):\n",
        "            print('            curve IsClosed     :', obj.Geometry.IsClosed)\n",
        "            print('            curve IsPlanar     :', obj.Geometry.IsPlanar())\n",
        "            print('            curve IsPolyline   :', obj.Geometry.IsPolyline())\n",
        "            print()\n",
        "\n",
        "            print('            curve PointCount   :', obj.Geometry.PointCount)\n",
        "            \n",
        "            for i in range(obj.Geometry.PointCount):\n",
        "                print('            curve pt ', i, ' : ', obj.Geometry.Point(i))\n",
        "                # print('           curve pt ', i, ' : ', obj.Geometry.ToPolyline().PointAt(i)) -- alternative\n",
        "\n",
        "            print()\n",
        "\n",
        "            print('            curve SegmentCount :', obj.Geometry.ToPolyline().SegmentCount)\n",
        "\n",
        "            for i in range(obj.Geometry.ToPolyline().SegmentCount):\n",
        "                print('            segement ', i, ' : ', obj.Geometry.ToPolyline().SegmentAt(i))\n",
        "\n",
        "            print()\n",
        "\n",
        "            oatPV = OatPV(idx, obj.Geometry)\n",
        "            oatPV_list.append(oatPV)\n",
        "\n",
        "        cnt_pv += 1\n",
        "    else:\n",
        "        pass\n",
        "\n",
        "for idx, obj in enumerate(iter(object_table)):\n",
        "    if (obj.Attributes.LayerIndex == layer_idx_of_pv):\n",
        "        total_num_pv += 1\n",
        "\n",
        "print('total num of pv: ', total_num_pv)\n",
        "print()\n",
        "\n",
        "for idx, oatPV in enumerate(oatPV_list):\n",
        "    print('oatPV ', idx, ' : ', oatPV)"
      ],
      "id": "5d57f785"
    },
    {
      "cell_type": "markdown",
      "metadata": {},
      "source": [
        "## read `Geometry` on the `cable` layer"
      ],
      "id": "d0cb4ccf-6001-430d-81a0-6d398a129e13"
    },
    {
      "cell_type": "code",
      "execution_count": 8,
      "metadata": {},
      "outputs": [
        {
          "output_type": "stream",
          "name": "stdout",
          "text": [
            "object  0  Object                :  <rhino3dm._rhino3dm.File3dmObject object at 0x000001661B0B5F30>\n",
            "        0  Geometry              :  <rhino3dm._rhino3dm.PolylineCurve object at 0x000001661ABC8B30>\n",
            "        0  Attributes            :  <rhino3dm._rhino3dm.ObjectAttributes object at 0x000001661ABC8B30>\n",
            "        0  Attributes.Id         :  fa8bcce9-953e-47f0-bcfc-4de7a87e0c76\n",
            "        0  Attributes.Name       :  \n",
            "        0  Attributes.LayerIndex :  1\n",
            "        0  Attributes.ObjectColor:  (0, 0, 0, 255)\n",
            "        0  Attributes.Visible    :  True\n",
            "\n",
            "            curve IsClosed     : False\n",
            "            curve IsPlanar     : True\n",
            "            curve IsPolyline   : True\n",
            "\n",
            "            curve PointCount   : 6\n",
            "            curve pt  0  :  14.298569362095407,251.0734261769187,0.0\n",
            "            curve pt  1  :  2.232971074135598,253.20091370662107,0.0\n",
            "            curve pt  2  :  1.9377067622771804,251.5263865827965,0.0\n",
            "            curve pt  3  :  14.003304539454732,249.398896156304,0.0\n",
            "            curve pt  4  :  13.700564187398314,247.72568133454058,0.0\n",
            "            curve pt  5  :  8.684444947408636,248.6101584950016,0.0\n",
            "\n",
            "            curve SegmentCount : 5\n",
            "            segement  0  :  <rhino3dm._rhino3dm.LineCurve object at 0x000001667119EB30>\n",
            "            segement  1  :  <rhino3dm._rhino3dm.LineCurve object at 0x000001667119EB30>\n",
            "            segement  2  :  <rhino3dm._rhino3dm.LineCurve object at 0x000001667119EB30>\n",
            "            segement  3  :  <rhino3dm._rhino3dm.LineCurve object at 0x000001667119EB30>\n",
            "            segement  4  :  <rhino3dm._rhino3dm.LineCurve object at 0x000001667119EB30>\n",
            "\n",
            "object  1  Object                :  <rhino3dm._rhino3dm.File3dmObject object at 0x00000166712E63F0>\n",
            "        1  Geometry              :  <rhino3dm._rhino3dm.PolylineCurve object at 0x000001661B0B5F30>\n",
            "        1  Attributes            :  <rhino3dm._rhino3dm.ObjectAttributes object at 0x000001661B0B5F30>\n",
            "        1  Attributes.Id         :  a11caa23-6a3a-4dac-95b5-1c6005646eae\n",
            "        1  Attributes.Name       :  \n",
            "        1  Attributes.LayerIndex :  1\n",
            "        1  Attributes.ObjectColor:  (0, 0, 0, 255)\n",
            "        1  Attributes.Visible    :  True\n",
            "\n",
            "            curve IsClosed     : False\n",
            "            curve IsPlanar     : True\n",
            "            curve IsPolyline   : True\n",
            "\n",
            "            curve PointCount   : 6\n",
            "            curve pt  0  :  7.675239846498812,248.7881056446808,0.0\n",
            "            curve pt  1  :  1.6424414370926925,249.851853712114,0.0\n",
            "            curve pt  2  :  1.3471761119082686,248.1773208414315,0.0\n",
            "            curve pt  3  :  13.412773889085692,246.04983041493904,0.0\n",
            "            curve pt  4  :  12.395163638063877,240.27867589886242,0.0\n",
            "            curve pt  5  :  1.3387704125292785,242.22821633384646,0.0\n",
            "\n",
            "            curve SegmentCount : 5\n",
            "            segement  0  :  <rhino3dm._rhino3dm.LineCurve object at 0x000001661B0B5F30>\n",
            "            segement  1  :  <rhino3dm._rhino3dm.LineCurve object at 0x000001661B0B5F30>\n",
            "            segement  2  :  <rhino3dm._rhino3dm.LineCurve object at 0x000001661B0B5F30>\n",
            "            segement  3  :  <rhino3dm._rhino3dm.LineCurve object at 0x000001661B0B5F30>\n",
            "            segement  4  :  <rhino3dm._rhino3dm.LineCurve object at 0x000001661B0B5F30>\n",
            "\n",
            "object  2  Object                :  <rhino3dm._rhino3dm.File3dmObject object at 0x00000166712E4DF0>\n",
            "        2  Geometry              :  <rhino3dm._rhino3dm.PolylineCurve object at 0x00000166712E63F0>\n",
            "        2  Attributes            :  <rhino3dm._rhino3dm.ObjectAttributes object at 0x00000166712E63F0>\n",
            "        2  Attributes.Id         :  f2f27645-020b-4020-ab4f-369b6b5b3a71\n",
            "        2  Attributes.Name       :  \n",
            "        2  Attributes.LayerIndex :  1\n",
            "        2  Attributes.ObjectColor:  (0, 0, 0, 255)\n",
            "        2  Attributes.Visible    :  True\n",
            "\n",
            "            curve IsClosed     : False\n",
            "            curve IsPlanar     : True\n",
            "            curve IsPolyline   : True\n",
            "\n",
            "            curve PointCount   : 7\n",
            "            curve pt  0  :  0.32956586088634054,242.40616632535492,0.0\n",
            "            curve pt  1  :  0.04480460092740657,240.7451976669099,0.0\n",
            "            curve pt  2  :  12.101217243309726,238.611623054351,0.0\n",
            "            curve pt  3  :  11.80726985994474,236.94456460314893,0.0\n",
            "            curve pt  4  :  -0.2596458508139179,239.06458065688344,0.0\n",
            "            curve pt  5  :  -0.6036829981151328,237.11344903812096,0.0\n",
            "            curve pt  6  :  3.4155472784859384,236.38933677866157,0.0\n",
            "\n",
            "            curve SegmentCount : 6\n",
            "            segement  0  :  <rhino3dm._rhino3dm.LineCurve object at 0x00000166712E63F0>\n",
            "            segement  1  :  <rhino3dm._rhino3dm.LineCurve object at 0x00000166712E63F0>\n",
            "            segement  2  :  <rhino3dm._rhino3dm.LineCurve object at 0x00000166712E63F0>\n",
            "            segement  3  :  <rhino3dm._rhino3dm.LineCurve object at 0x00000166712E63F0>\n",
            "            segement  4  :  <rhino3dm._rhino3dm.LineCurve object at 0x00000166712E63F0>\n",
            "            segement  5  :  <rhino3dm._rhino3dm.LineCurve object at 0x00000166712E63F0>\n",
            "\n",
            "total num of cable:  72"
          ]
        }
      ],
      "source": [
        "layer_idx_of_cable = 1\n",
        "cnt_cable = 0\n",
        "max_num_obj = 3\n",
        "total_num_cable = 0\n",
        "\n",
        "for idx, obj in enumerate(iter(object_table)):\n",
        "    # print the first 3 obj on a layer\n",
        "    if (obj.Attributes.LayerIndex == layer_idx_of_cable) and (cnt_cable < max_num_obj):\n",
        "        print('object ', idx, ' Object                : ', obj)\n",
        "        print('       ', idx, ' Geometry              : ', obj.Geometry)\n",
        "        print('       ', idx, ' Attributes            : ', obj.Attributes)\n",
        "        print('       ', idx, ' Attributes.Id         : ', obj.Attributes.Id)\n",
        "        print('       ', idx, ' Attributes.Name       : ', obj.Attributes.Name)\n",
        "        print('       ', idx, ' Attributes.LayerIndex : ', obj.Attributes.LayerIndex)\n",
        "        print('       ', idx, ' Attributes.ObjectColor: ', obj.Attributes.ObjectColor)\n",
        "        print('       ', idx, ' Attributes.Visible    : ', obj.Attributes.Visible)\n",
        "        print()\n",
        "\n",
        "        # if geom is PolylineCurve, print its details\n",
        "        if isinstance(obj.Geometry, rhino3dm.PolylineCurve):\n",
        "            print('            curve IsClosed     :', obj.Geometry.IsClosed)\n",
        "            print('            curve IsPlanar     :', obj.Geometry.IsPlanar())\n",
        "            print('            curve IsPolyline   :', obj.Geometry.IsPolyline())\n",
        "            print()\n",
        "\n",
        "            print('            curve PointCount   :', obj.Geometry.PointCount)\n",
        "            \n",
        "            for i in range(obj.Geometry.PointCount):\n",
        "                print('            curve pt ', i, ' : ', obj.Geometry.Point(i))\n",
        "                # print('           curve pt ', i, ' : ', obj.Geometry.ToPolyline().PointAt(i)) -- alternative\n",
        "\n",
        "            print()\n",
        "\n",
        "            print('            curve SegmentCount :', obj.Geometry.ToPolyline().SegmentCount)\n",
        "\n",
        "            for i in range(obj.Geometry.ToPolyline().SegmentCount):\n",
        "                print('            segement ', i, ' : ', obj.Geometry.ToPolyline().SegmentAt(i))\n",
        "\n",
        "            print()\n",
        "\n",
        "        cnt_cable += 1\n",
        "    else:\n",
        "        pass\n",
        "\n",
        "for idx, obj in enumerate(iter(object_table)):\n",
        "    if (obj.Attributes.LayerIndex == layer_idx_of_cable):\n",
        "        total_num_cable += 1\n",
        "\n",
        "print('total num of cable: ', total_num_cable)"
      ],
      "id": "7524cc04"
    },
    {
      "cell_type": "markdown",
      "metadata": {},
      "source": [
        "## read `Text` on `text` layer"
      ],
      "id": "ebb5906b-4b26-47f8-a7cc-0f15560057ba"
    },
    {
      "cell_type": "code",
      "execution_count": 9,
      "metadata": {},
      "outputs": [
        {
          "output_type": "stream",
          "name": "stdout",
          "text": [
            "object  72  Object                  :  <rhino3dm._rhino3dm.File3dmObject object at 0x000001661ABD9EF0>\n",
            "        72  Geometry                :  <rhino3dm._rhino3dm.PolylineCurve object at 0x000001661ABD1570>\n",
            "        72  Attributes              :  <rhino3dm._rhino3dm.ObjectAttributes object at 0x000001661ABD1570>\n",
            "        72  Attributes.Id           :  36f08c55-5986-4aa2-b0b8-ae56b26b043c\n",
            "        72  Attributes.Name         :  \n",
            "        72  Attributes.LayerIndex   :  4\n",
            "        72  Attributes.ObjectColor  :  (0, 0, 0, 255)\n",
            "        72  Attributes.Visible      :  True\n",
            "\n",
            "object  73  Object                  :  <rhino3dm._rhino3dm.File3dmObject object at 0x000001661B0DE970>\n",
            "        73  Geometry                :  <rhino3dm._rhino3dm.PolylineCurve object at 0x000001661ABD9EF0>\n",
            "        73  Attributes              :  <rhino3dm._rhino3dm.ObjectAttributes object at 0x000001661ABD9EF0>\n",
            "        73  Attributes.Id           :  2a5e0e48-e0ca-4d27-896e-1d3f2435645e\n",
            "        73  Attributes.Name         :  \n",
            "        73  Attributes.LayerIndex   :  4\n",
            "        73  Attributes.ObjectColor  :  (0, 0, 0, 255)\n",
            "        73  Attributes.Visible      :  True\n",
            "\n",
            "object  74  Object                  :  <rhino3dm._rhino3dm.File3dmObject object at 0x000001661B0DC870>\n",
            "        74  Geometry                :  <rhino3dm._rhino3dm.PolylineCurve object at 0x000001661ABD9EF0>\n",
            "        74  Attributes              :  <rhino3dm._rhino3dm.ObjectAttributes object at 0x000001661ABD9EF0>\n",
            "        74  Attributes.Id           :  56851944-a49b-49bc-af4f-44c779262974\n",
            "        74  Attributes.Name         :  \n",
            "        74  Attributes.LayerIndex   :  4\n",
            "        74  Attributes.ObjectColor  :  (0, 0, 0, 255)\n",
            "        74  Attributes.Visible      :  True\n",
            "\n",
            "total num of text:  2400"
          ]
        }
      ],
      "source": [
        "layer_idx_of_text = 4\n",
        "cnt_text = 0\n",
        "max_num_obj = 3\n",
        "total_num_text = 0\n",
        "\n",
        "for idx, obj in enumerate(iter(object_table)):\n",
        "    if (obj.Attributes.LayerIndex == layer_idx_of_text) and (cnt_text < max_num_obj):\n",
        "        print('object ', idx, ' Object                  : ', obj)\n",
        "        print('       ', idx, ' Geometry                : ', obj.Geometry)\n",
        "        print('       ', idx, ' Attributes              : ', obj.Attributes)\n",
        "        print('       ', idx, ' Attributes.Id           : ', obj.Attributes.Id)\n",
        "        print('       ', idx, ' Attributes.Name         : ', obj.Attributes.Name)\n",
        "        print('       ', idx, ' Attributes.LayerIndex   : ', obj.Attributes.LayerIndex)\n",
        "        print('       ', idx, ' Attributes.ObjectColor  : ', obj.Attributes.ObjectColor)\n",
        "        print('       ', idx, ' Attributes.Visible      : ', obj.Attributes.Visible)\n",
        "        print()\n",
        "\n",
        "        # if geom is AnnotationBase, print its PlainText\n",
        "        if isinstance(obj.Geometry, rhino3dm.AnnotationBase):\n",
        "            print('            Geometry.PlainText     : ', obj.Geometry.PlainText)\n",
        "            print()\n",
        "\n",
        "        cnt_text += 1\n",
        "\n",
        "for idx, obj in enumerate(iter(object_table)):\n",
        "    if (obj.Attributes.LayerIndex == layer_idx_of_text):\n",
        "        total_num_text += 1\n",
        "\n",
        "print('total num of text: ', total_num_text)"
      ],
      "id": "7bc51095"
    },
    {
      "cell_type": "markdown",
      "metadata": {},
      "source": [
        "## create a dataclass `MyPt`"
      ],
      "id": "3d54f663-e8d7-4f38-ad54-bf2da4adbfc3"
    },
    {
      "cell_type": "code",
      "execution_count": 10,
      "metadata": {},
      "outputs": [],
      "source": [
        "@dataclass\n",
        "class OatPt:\n",
        "    idx  : int\n",
        "    point: rhino3dm.Point3d\n",
        "    name : str"
      ],
      "id": "55ec77b1"
    },
    {
      "cell_type": "markdown",
      "metadata": {},
      "source": [
        "## read `Point` on `pt` layer"
      ],
      "id": "d8f814d4-b6ff-44b7-a4e5-836bfac0a5ed"
    },
    {
      "cell_type": "code",
      "execution_count": 11,
      "metadata": {},
      "outputs": [
        {
          "output_type": "stream",
          "name": "stdout",
          "text": [
            "object  2544  Object                  :  <rhino3dm._rhino3dm.File3dmObject object at 0x000001661AC25030>\n",
            "        2544  Geometry                :  <rhino3dm._rhino3dm.Point object at 0x000001661ABD09B0>\n",
            "        2544  Attributes              :  <rhino3dm._rhino3dm.ObjectAttributes object at 0x000001661ABD09B0>\n",
            "        2544  Attributes.Id           :  4a631072-56bf-4491-8ff5-0a7e5696c4f7\n",
            "        2544  Attributes.Name         :  \n",
            "        2544  Attributes.LayerIndex   :  2\n",
            "        2544  Attributes.ObjectColor  :  (0, 0, 0, 255)\n",
            "        2544  Attributes.Visible      :  True\n",
            "\n",
            "            Geometry.Location.X     :  2.206781230039775\n",
            "            Geometry.Location.Y     :  251.68157067516623\n",
            "            Geometry.Location.Z     :  0.0\n",
            "\n",
            "object  2545  Object                  :  <rhino3dm._rhino3dm.File3dmObject object at 0x000001667123F5F0>\n",
            "        2545  Geometry                :  <rhino3dm._rhino3dm.Point object at 0x000001661AC25030>\n",
            "        2545  Attributes              :  <rhino3dm._rhino3dm.ObjectAttributes object at 0x000001661AC25030>\n",
            "        2545  Attributes.Id           :  cec551b3-c746-430c-9706-a7c36cf93986\n",
            "        2545  Attributes.Name         :  \n",
            "        2545  Attributes.LayerIndex   :  2\n",
            "        2545  Attributes.ObjectColor  :  (0, 0, 0, 255)\n",
            "        2545  Attributes.Visible      :  True\n",
            "\n",
            "            Geometry.Location.X     :  1.576087585640515\n",
            "            Geometry.Location.Y     :  248.3549134664773\n",
            "            Geometry.Location.Z     :  0.0\n",
            "\n",
            "object  2546  Object                  :  <rhino3dm._rhino3dm.File3dmObject object at 0x000001661AC0EDB0>\n",
            "        2546  Geometry                :  <rhino3dm._rhino3dm.Point object at 0x000001667123F5F0>\n",
            "        2546  Attributes              :  <rhino3dm._rhino3dm.ObjectAttributes object at 0x000001667123F5F0>\n",
            "        2546  Attributes.Id           :  a52b2cf0-ac53-4c45-9e45-ccdbf7b52410\n",
            "        2546  Attributes.Name         :  \n",
            "        2546  Attributes.LayerIndex   :  2\n",
            "        2546  Attributes.ObjectColor  :  (0, 0, 0, 255)\n",
            "        2546  Attributes.Visible      :  True\n",
            "\n",
            "            Geometry.Location.X     :  15.99752550886372\n",
            "            Geometry.Location.Y     :  247.46211020440398\n",
            "            Geometry.Location.Z     :  0.0\n",
            "\n",
            "total num of pt:  3"
          ]
        }
      ],
      "source": [
        "layer_idx_of_pt = 2\n",
        "cnt_pt = 0\n",
        "max_num_obj = 3\n",
        "total_num_pt = 0\n",
        "\n",
        "oaPt_list_1 = []\n",
        "\n",
        "for idx, obj in enumerate(iter(object_table)):\n",
        "    if (obj.Attributes.LayerIndex == layer_idx_of_pt) and (cnt_pt < max_num_obj):\n",
        "        print('object ', idx, ' Object                  : ', obj)\n",
        "        print('       ', idx, ' Geometry                : ', obj.Geometry)\n",
        "        print('       ', idx, ' Attributes              : ', obj.Attributes)\n",
        "        print('       ', idx, ' Attributes.Id           : ', obj.Attributes.Id)\n",
        "        print('       ', idx, ' Attributes.Name         : ', obj.Attributes.Name)\n",
        "        print('       ', idx, ' Attributes.LayerIndex   : ', obj.Attributes.LayerIndex)\n",
        "        print('       ', idx, ' Attributes.ObjectColor  : ', obj.Attributes.ObjectColor)\n",
        "        print('       ', idx, ' Attributes.Visible      : ', obj.Attributes.Visible)\n",
        "        print()\n",
        "\n",
        "        # if geom is Point, print its xyz\n",
        "        if isinstance(obj.Geometry, rhino3dm.Point):\n",
        "            pt = obj.Geometry.Location\n",
        "            print('            Geometry.Location.X     : ', pt.X)\n",
        "            print('            Geometry.Location.Y     : ', pt.Y)\n",
        "            print('            Geometry.Location.Z     : ', pt.Z)\n",
        "\n",
        "            oatPt = OatPt(idx, pt, str(idx))\n",
        "            oaPt_list_1.append(oatPt)\n",
        "\n",
        "            print()\n",
        "\n",
        "for idx, obj in enumerate(iter(object_table)):\n",
        "    if (obj.Attributes.LayerIndex == layer_idx_of_pt):\n",
        "        total_num_pt += 1\n",
        "\n",
        "print('total num of pt: ', total_num_pt)"
      ],
      "id": "89e8a423"
    },
    {
      "cell_type": "code",
      "execution_count": 12,
      "metadata": {},
      "outputs": [
        {
          "output_type": "stream",
          "name": "stdout",
          "text": [
            "myPt 0  :  OatPt(idx=2544, point=Point3d(2.20678, 251.682, 0), name='2544')\n",
            "    type of idx in myPt: <class 'int'>\n",
            "    type of point in myPt: <class 'rhino3dm._rhino3dm.Point3d'>\n",
            "    type of name in myPt: <class 'str'>\n",
            "myPt 1  :  OatPt(idx=2545, point=Point3d(1.57609, 248.355, 0), name='2545')\n",
            "    type of idx in myPt: <class 'int'>\n",
            "    type of point in myPt: <class 'rhino3dm._rhino3dm.Point3d'>\n",
            "    type of name in myPt: <class 'str'>\n",
            "myPt 2  :  OatPt(idx=2546, point=Point3d(15.9975, 247.462, 0), name='2546')\n",
            "    type of idx in myPt: <class 'int'>\n",
            "    type of point in myPt: <class 'rhino3dm._rhino3dm.Point3d'>\n",
            "    type of name in myPt: <class 'str'>"
          ]
        }
      ],
      "source": [
        "for idx, oatPt in enumerate(oaPt_list_1):\n",
        "    print('myPt', idx, ' : ', oatPt)\n",
        "    print('    type of idx in myPt:', type(oatPt.idx))\n",
        "    print('    type of point in myPt:', type(oatPt.point))\n",
        "    print('    type of name in myPt:', type(oatPt.name))"
      ],
      "id": "bcebe9fc"
    },
    {
      "cell_type": "markdown",
      "metadata": {},
      "source": [
        "aaa"
      ],
      "id": "b178c707-712a-4c3a-bf11-0b70a7e44f2a"
    }
  ],
  "nbformat": 4,
  "nbformat_minor": 5,
  "metadata": {
    "kernelspec": {
      "name": "python3",
      "display_name": "Python 3 (ipykernel)",
      "language": "python"
    }
  }
}