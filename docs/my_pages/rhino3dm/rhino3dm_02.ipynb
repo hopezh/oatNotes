{
  "cells": [
    {
      "cell_type": "markdown",
      "metadata": {},
      "source": [
        "# rhino3dm exercise 02\n",
        "\n",
        "## read project 3dm file"
      ],
      "id": "7e3724ec-492a-4358-90f6-73e4e291d6cd"
    },
    {
      "cell_type": "code",
      "execution_count": 1,
      "metadata": {},
      "outputs": [],
      "source": [
        "import rhino3dm"
      ],
      "id": "6b0c4a66"
    },
    {
      "cell_type": "code",
      "execution_count": 2,
      "metadata": {},
      "outputs": [
        {
          "output_type": "stream",
          "name": "stdout",
          "text": [
            "3dm object:  <rhino3dm._rhino3dm.File3dm object at 0x0000023058927070>"
          ]
        }
      ],
      "source": [
        "rhino_file = \"./data/tw_nongke.3dm\"\n",
        "model = rhino3dm.File3dm.Read(rhino_file)\n",
        "print('3dm object: ', model)"
      ],
      "id": "cd85e9bd"
    },
    {
      "cell_type": "markdown",
      "metadata": {},
      "source": [
        "## read `Layer`"
      ],
      "id": "482afb91-207a-4ef2-b802-271daced0b55"
    },
    {
      "cell_type": "code",
      "execution_count": 3,
      "metadata": {},
      "outputs": [
        {
          "output_type": "stream",
          "name": "stdout",
          "text": [
            "layer table:  <rhino3dm._rhino3dm.File3dmLayerTable object at 0x000002305E83E2F0>\n",
            "num of layers:  4 \n",
            "\n",
            "layer  0  Object  :  <rhino3dm._rhino3dm.Layer object at 0x000002305E83E770>\n",
            "       0  Id      :  212960d6-ad46-439d-8516-772ce85fde03\n",
            "       0  Index   :  0\n",
            "       0  Name    :  0\n",
            "       0  Fullpath:  0\n",
            "       0  Color   :  (0, 0, 0, 255)\n",
            "layer  1  Object  :  <rhino3dm._rhino3dm.Layer object at 0x0000023058976CB0>\n",
            "       1  Id      :  25488de8-55a5-470b-a098-ea3c8c1220b3\n",
            "       1  Index   :  1\n",
            "       1  Name    :  cable\n",
            "       1  Fullpath:  cable\n",
            "       1  Color   :  (255, 127, 0, 255)\n",
            "layer  2  Object  :  <rhino3dm._rhino3dm.Layer object at 0x000002302EF9F7B0>\n",
            "       2  Id      :  0428f404-44e4-47e7-ae60-72284d0a89f7\n",
            "       2  Index   :  2\n",
            "       2  Name    :  pv\n",
            "       2  Fullpath:  pv\n",
            "       2  Color   :  (0, 0, 0, 255)\n",
            "layer  3  Object  :  <rhino3dm._rhino3dm.Layer object at 0x0000023058DF6070>\n",
            "       3  Id      :  6f40c8fc-3378-4efb-a590-0af0bf5a85dc\n",
            "       3  Index   :  3\n",
            "       3  Name    :  num\n",
            "       3  Fullpath:  num\n",
            "       3  Color   :  (0, 0, 0, 255)"
          ]
        }
      ],
      "source": [
        "layer_table = model.Layers\n",
        "print('layer table: ', layer_table)\n",
        "print('num of layers: ', len(layer_table), '\\n')\n",
        "\n",
        "for idx, layer in enumerate(iter(layer_table)):\n",
        "    print('layer ', idx, ' Object  : ', layer)\n",
        "    print('      ', idx, ' Id      : ', layer.Id)\n",
        "    print('      ', idx, ' Index   : ', layer.Index)\n",
        "    print('      ', idx, ' Name    : ', layer.Name)\n",
        "    print('      ', idx, ' Fullpath: ', layer.FullPath)\n",
        "    print('      ', idx, ' Color   : ', layer.Color)"
      ],
      "id": "1cfbfe01"
    },
    {
      "cell_type": "markdown",
      "metadata": {},
      "source": [
        "## read `Objects` on the `pv` layer"
      ],
      "id": "ac835186-8192-4249-b8ed-32f79ea53611"
    },
    {
      "cell_type": "code",
      "execution_count": 4,
      "metadata": {},
      "outputs": [
        {
          "output_type": "stream",
          "name": "stdout",
          "text": [
            "object table:  <rhino3dm._rhino3dm.File3dmObjectTable object at 0x0000023058DF5730> \n",
            "\n",
            "object  74  Object                :  <rhino3dm._rhino3dm.File3dmObject object at 0x000002305E876EB0>\n",
            "        74  Geometry              :  <rhino3dm._rhino3dm.PolylineCurve object at 0x0000023058DF71B0>\n",
            "        74  Attributes            :  <rhino3dm._rhino3dm.ObjectAttributes object at 0x0000023058DF71B0>\n",
            "        74  Attributes.Id         :  36f08c55-5986-4aa2-b0b8-ae56b26b043c\n",
            "        74  Attributes.Name       :  \n",
            "        74  Attributes.LayerIndex :  2\n",
            "        74  Attributes.ObjectColor:  (0, 0, 0, 255)\n",
            "        74  Attributes.Visible    :  True\n",
            "\n",
            "object  75  Object                :  <rhino3dm._rhino3dm.File3dmObject object at 0x000002305E8778F0>\n",
            "        75  Geometry              :  <rhino3dm._rhino3dm.PolylineCurve object at 0x000002302F0446B0>\n",
            "        75  Attributes            :  <rhino3dm._rhino3dm.ObjectAttributes object at 0x000002302F0446B0>\n",
            "        75  Attributes.Id         :  2a5e0e48-e0ca-4d27-896e-1d3f2435645e\n",
            "        75  Attributes.Name       :  \n",
            "        75  Attributes.LayerIndex :  2\n",
            "        75  Attributes.ObjectColor:  (0, 0, 0, 255)\n",
            "        75  Attributes.Visible    :  True\n",
            "\n",
            "object  76  Object                :  <rhino3dm._rhino3dm.File3dmObject object at 0x000002305E877270>\n",
            "        76  Geometry              :  <rhino3dm._rhino3dm.PolylineCurve object at 0x000002302F0446B0>\n",
            "        76  Attributes            :  <rhino3dm._rhino3dm.ObjectAttributes object at 0x000002302F0446B0>\n",
            "        76  Attributes.Id         :  56851944-a49b-49bc-af4f-44c779262974\n",
            "        76  Attributes.Name       :  \n",
            "        76  Attributes.LayerIndex :  2\n",
            "        76  Attributes.ObjectColor:  (0, 0, 0, 255)\n",
            "        76  Attributes.Visible    :  True\n"
          ]
        }
      ],
      "source": [
        "object_table = model.Objects\n",
        "print('object table: ', object_table, '\\n')\n",
        "\n",
        "for idx, obj in enumerate(iter(object_table)):\n",
        "    if idx < 77 and obj.Attributes.LayerIndex == 2:\n",
        "        print('object ', idx, ' Object                : ', obj)\n",
        "        print('       ', idx, ' Geometry              : ', obj.Geometry)\n",
        "        print('       ', idx, ' Attributes            : ', obj.Attributes)\n",
        "        print('       ', idx, ' Attributes.Id         : ', obj.Attributes.Id)\n",
        "        print('       ', idx, ' Attributes.Name       : ', obj.Attributes.Name)\n",
        "        print('       ', idx, ' Attributes.LayerIndex : ', obj.Attributes.LayerIndex)\n",
        "        print('       ', idx, ' Attributes.ObjectColor: ', obj.Attributes.ObjectColor)\n",
        "        print('       ', idx, ' Attributes.Visible    : ', obj.Attributes.Visible)\n",
        "        print()\n",
        "    else:\n",
        "        pass"
      ],
      "id": "c7af32c3"
    }
  ],
  "nbformat": 4,
  "nbformat_minor": 5,
  "metadata": {
    "kernelspec": {
      "name": "python3",
      "display_name": "Python 3 (ipykernel)",
      "language": "python"
    }
  }
}