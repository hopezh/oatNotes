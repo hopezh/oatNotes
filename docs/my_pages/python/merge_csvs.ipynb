{
  "cells": [
    {
      "cell_type": "markdown",
      "metadata": {},
      "source": [
        "# Merge CSVs"
      ],
      "id": "a0dfd654-b9d4-4e51-9770-1e0c112959f7"
    },
    {
      "cell_type": "code",
      "execution_count": 1,
      "metadata": {},
      "outputs": [
        {
          "output_type": "display_data",
          "metadata": {},
          "data": {
            "text/plain": [
              "<polars.config.Config at 0x21e2e040650>"
            ]
          }
        }
      ],
      "source": [
        "from glob import glob\n",
        "import os\n",
        "\n",
        "import polars as pl\n",
        "pl.Config(tbl_rows=10)"
      ],
      "id": "d06a8fde"
    },
    {
      "cell_type": "markdown",
      "metadata": {},
      "source": [
        "# glob CSVs in a folder"
      ],
      "id": "312ee3a7-0c1d-46d0-a14b-a7292bd392eb"
    },
    {
      "cell_type": "code",
      "execution_count": 2,
      "metadata": {
        "source-line-numbers": "1-3"
      },
      "outputs": [
        {
          "output_type": "stream",
          "name": "stdout",
          "text": [
            "csv  0  :  ../../data/csvs\\cn_daqing_zone_1_10_updated.csv\n",
            "csv  1  :  ../../data/csvs\\cn_daqing_zone_1_11_updated.csv\n",
            "csv  2  :  ../../data/csvs\\cn_daqing_zone_1_12_updated.csv\n",
            "csv  3  :  ../../data/csvs\\cn_daqing_zone_1_13_updated.csv\n",
            "csv  4  :  ../../data/csvs\\cn_daqing_zone_1_14_updated.csv\n",
            "csv  5  :  ../../data/csvs\\cn_daqing_zone_1_15_updated.csv\n",
            "csv  6  :  ../../data/csvs\\cn_daqing_zone_1_17_updated.csv\n",
            "csv  7  :  ../../data/csvs\\cn_daqing_zone_1_18_updated.csv\n",
            "csv  8  :  ../../data/csvs\\cn_daqing_zone_1_19_updated.csv\n",
            "csv  9  :  ../../data/csvs\\cn_daqing_zone_1_20_updated.csv\n",
            "csv  10  :  ../../data/csvs\\cn_daqing_zone_1_22_updated.csv"
          ]
        }
      ],
      "source": [
        "csv_dir = \"../../data/csvs/\"\n",
        "csv_path_glob = os.path.join(csv_dir, '*.csv')\n",
        "csv_list = glob(csv_path_glob)\n",
        "\n",
        "for idx, csv in enumerate(csv_list):\n",
        "    print('csv ', idx, ' : ', csv)"
      ],
      "id": "0f55ac01"
    },
    {
      "cell_type": "markdown",
      "metadata": {},
      "source": [
        "> **glob**\n",
        ">\n",
        "> [glob](https://www.geeksforgeeks.org/how-to-use-glob-function-to-find-files-recursively-in-python/)\n",
        "\n",
        "# merge CSVs into a df"
      ],
      "id": "6e27f7ef-5ddc-480c-a34f-0d94ce9bfd8e"
    },
    {
      "cell_type": "code",
      "execution_count": 3,
      "metadata": {},
      "outputs": [
        {
          "output_type": "stream",
          "name": "stdout",
          "text": [
            "CPU times: total: 0 ns\n",
            "Wall time: 7 ms"
          ]
        },
        {
          "output_type": "display_data",
          "metadata": {},
          "data": {
            "text/html": [
              "</div>"
            ]
          }
        }
      ],
      "source": [
        "%%time\n",
        "\n",
        "df_merged = pl.read_csv(csv_path_glob)\n",
        "\n",
        "# q = (\n",
        "#     pl.scan_csv(csv_path_glob)\n",
        "# )\n",
        "# df_merged = q.collect()\n",
        "\n",
        "df_merged"
      ],
      "id": "3bf7abd4"
    },
    {
      "cell_type": "markdown",
      "metadata": {},
      "source": [
        "> **Dealing with multple files**\n",
        ">\n",
        "> [Multiple](https://docs.pola.rs/user-guide/io/multiple/)\n",
        "\n",
        "> **polars.read_csv**\n",
        ">\n",
        "> [polars.read_csv](https://docs.pola.rs/py-polars/html/reference/api/polars.read_csv.html)\n",
        "\n",
        "> **polars.scan_csv**\n",
        ">\n",
        "> [polars.scan_csv](https://docs.pola.rs/py-polars/html/reference/api/polars.scan_csv.html)\n",
        "\n",
        "# write the df as a merged CSV\n",
        "\n",
        "``` python\n",
        "csv_merged_path = os.path.join(\"../../data/csv_merged/\", \"cn_daqing_zone_1_10-22_merged.csv\")\n",
        "df_merged.write_csv(csv_merged_path)\n",
        "print('...merged csv written.')\n",
        "df_merged\n",
        "```\n",
        "\n",
        "> **polars.DataFrame.write_csv**\n",
        ">\n",
        "> [polars.DataFrame.write_csv](https://docs.pola.rs/py-polars/html/reference/api/polars.DataFrame.write_csv.html#polars.DataFrame.write_csv)\n",
        "\n",
        "# (lazy-)filter a DF by a list of items in a column\n",
        "\n",
        "``` python\n",
        "%%time\n",
        "\n",
        "strings_to_filter = [\n",
        "    '1-4-NB05-10',\n",
        "    '1-4-NB05-9',\n",
        "    '1-8-NB02-4',\n",
        "]\n",
        "\n",
        "query = (\n",
        "    pl.scan_csv(csv_path_glob)\n",
        "      .filter(pl.col('string_name')\n",
        "      .is_in(strings_to_filter))\n",
        ")\n",
        "\n",
        "df_filtered = query.collect()\n",
        "\n",
        "df_filtered\n",
        "```\n",
        "\n",
        "Line 9  \n",
        "Build a query(s) in `lazy` mode\n",
        "\n",
        "Line 15  \n",
        "execute the query(s) when its `collected`\n",
        "\n",
        "> **lazy/eager API**\n",
        ">\n",
        "> [Lazy/eager\n",
        "> API](https://docs.pola.rs/user-guide/concepts/lazy-vs-eager/)"
      ],
      "id": "a6a0c771-c83c-4d3e-aac1-baaf16e7cd51"
    }
  ],
  "nbformat": 4,
  "nbformat_minor": 5,
  "metadata": {
    "kernelspec": {
      "name": "python3",
      "display_name": "Python 3 (ipykernel)",
      "language": "python"
    }
  }
}