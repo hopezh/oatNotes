{
  "cells": [
    {
      "cell_type": "markdown",
      "metadata": {},
      "source": [
        "# Merge CSVs"
      ],
      "id": "bd270c6b-af6e-412d-aae1-f942f04a94e3"
    },
    {
      "cell_type": "code",
      "execution_count": 1,
      "metadata": {},
      "outputs": [
        {
          "output_type": "display_data",
          "metadata": {},
          "data": {
            "text/plain": [
              "<polars.config.Config at 0x189d4aab350>"
            ]
          }
        }
      ],
      "source": [
        "from glob import glob\n",
        "import os\n",
        "\n",
        "import polars as pl\n",
        "pl.Config(tbl_rows=10)"
      ],
      "id": "3b3b4c6c"
    },
    {
      "cell_type": "markdown",
      "metadata": {},
      "source": [
        "# glob CSVs in a folder"
      ],
      "id": "0d6058b6-5a1b-4f9c-9bb3-677dd68612a5"
    },
    {
      "cell_type": "code",
      "execution_count": 2,
      "metadata": {},
      "outputs": [
        {
          "output_type": "stream",
          "name": "stdout",
          "text": [
            "csv  0  :  ../../data/csvs\\cn_daqing_zone_1_04_module_cluster_outline.csv\n",
            "csv  1  :  ../../data/csvs\\cn_daqing_zone_1_05_module_cluster_outline.csv\n",
            "csv  2  :  ../../data/csvs\\cn_daqing_zone_1_06_module_cluster_outline.csv\n",
            "csv  3  :  ../../data/csvs\\cn_daqing_zone_1_07_module_cluster_outline.csv\n",
            "csv  4  :  ../../data/csvs\\cn_daqing_zone_1_08_module_cluster_outline.csv"
          ]
        }
      ],
      "source": [
        "csv_dir = \"../../data/csvs/\"\n",
        "csv_path_glob = os.path.join(csv_dir, '*.csv')\n",
        "csv_list = glob(csv_path_glob)\n",
        "\n",
        "for idx, csv in enumerate(csv_list):\n",
        "    print('csv ', idx, ' : ', csv)"
      ],
      "id": "e29e78f1"
    },
    {
      "cell_type": "markdown",
      "metadata": {},
      "source": [
        "# merge CSVs"
      ],
      "id": "4f61cfb0-c873-4977-bca2-e9526662b7b3"
    },
    {
      "cell_type": "code",
      "execution_count": 3,
      "metadata": {},
      "outputs": [],
      "source": [
        "%%time\n",
        "\n",
        "# df_merged = pl.read_csv(csv_path_glob)\n",
        "\n",
        "df_merged"
      ],
      "id": "ffddaadf"
    },
    {
      "cell_type": "markdown",
      "metadata": {},
      "source": [
        "> **Dealing with multple files**\n",
        ">\n",
        "> [Multiple](https://docs.pola.rs/user-guide/io/multiple/)\n",
        "\n",
        "> **polars.read_csv**\n",
        ">\n",
        "> [polars.read_csv](https://docs.pola.rs/py-polars/html/reference/api/polars.read_csv.html)\n",
        "\n",
        "> **polars.scan_csv**\n",
        ">\n",
        "> [polars.scan_csv](https://docs.pola.rs/py-polars/html/reference/api/polars.scan_csv.html)\n",
        "\n",
        "# write merged CSV"
      ],
      "id": "03eecc9d-d273-4801-a6c3-a2b58fabf8f6"
    },
    {
      "cell_type": "code",
      "execution_count": 4,
      "metadata": {},
      "outputs": [],
      "source": [
        "# csv_merged_path = os.path.join(\"../../data/csv_merged/\", \"merged.csv\")\n",
        "# df_merged.write_csv(csv_merged_path)\n",
        "# print('...merged csv written.')"
      ],
      "id": "262cbc3a"
    },
    {
      "cell_type": "markdown",
      "metadata": {},
      "source": [
        "> **polars.DataFrame.write_csv**\n",
        ">\n",
        "> [polars.DataFrame.write_csv](https://docs.pola.rs/py-polars/html/reference/api/polars.DataFrame.write_csv.html#polars.DataFrame.write_csv)\n",
        "\n",
        "# (lazy-)filter a DF by a list of items in a column"
      ],
      "id": "9c3849b0-676b-42bd-bc2f-4028bd8fa773"
    },
    {
      "cell_type": "code",
      "execution_count": 5,
      "metadata": {},
      "outputs": [
        {
          "output_type": "stream",
          "name": "stdout",
          "text": [
            "CPU times: total: 0 ns\n",
            "Wall time: 4 ms"
          ]
        },
        {
          "output_type": "display_data",
          "metadata": {},
          "data": {
            "text/html": [
              "</div>"
            ]
          }
        }
      ],
      "source": [
        "%%time\n",
        "\n",
        "strings_to_filter = [\n",
        "    '1-4-NB05-10',\n",
        "    '1-4-NB05-9',\n",
        "    '1-8-NB02-4',\n",
        "]\n",
        "\n",
        "query = (\n",
        "    pl.scan_csv(csv_path_glob)\n",
        "      .filter(pl.col('string_name')\n",
        "      .is_in(strings_to_filter))\n",
        ")\n",
        "\n",
        "df_filtered = query.collect()\n",
        "\n",
        "df_filtered"
      ],
      "id": "581c8f3b"
    },
    {
      "cell_type": "markdown",
      "metadata": {},
      "source": [
        "> **lazy/eager API**\n",
        ">\n",
        "> [Lazy/eager\n",
        "> API](https://docs.pola.rs/user-guide/concepts/lazy-vs-eager/)"
      ],
      "id": "a84e4a82-9066-44a7-9216-5d1fa00b3c78"
    }
  ],
  "nbformat": 4,
  "nbformat_minor": 5,
  "metadata": {
    "kernelspec": {
      "name": "python3",
      "display_name": "Python 3 (ipykernel)",
      "language": "python"
    }
  }
}