{
  "cells": [
    {
      "cell_type": "markdown",
      "metadata": {},
      "source": [
        "# Merge CSVs"
      ],
      "id": "934e5845-b0b2-466a-8b3f-150be3bb76a5"
    },
    {
      "cell_type": "code",
      "execution_count": 1,
      "metadata": {},
      "outputs": [
        {
          "output_type": "display_data",
          "metadata": {},
          "data": {
            "text/plain": [
              "<polars.config.Config at 0x1e260a39310>"
            ]
          }
        }
      ],
      "source": [
        "from glob import glob\n",
        "import os\n",
        "\n",
        "import polars as pl\n",
        "pl.Config(tbl_rows=6)"
      ],
      "id": "4fdb70f9"
    },
    {
      "cell_type": "markdown",
      "metadata": {},
      "source": [
        "# glob CSVs in a folder"
      ],
      "id": "2301ecec-0b51-47aa-9f33-b53bb6c4966c"
    },
    {
      "cell_type": "code",
      "execution_count": 2,
      "metadata": {},
      "outputs": [
        {
          "output_type": "stream",
          "name": "stdout",
          "text": [
            "csv  0  :  ../../data/csvs\\cn_daqing_zone_1_04_module_cluster_outline.csv\n",
            "csv  1  :  ../../data/csvs\\cn_daqing_zone_1_05_module_cluster_outline.csv\n",
            "csv  2  :  ../../data/csvs\\cn_daqing_zone_1_06_module_cluster_outline.csv\n",
            "csv  3  :  ../../data/csvs\\cn_daqing_zone_1_07_module_cluster_outline.csv\n",
            "csv  4  :  ../../data/csvs\\cn_daqing_zone_1_08_module_cluster_outline.csv"
          ]
        }
      ],
      "source": [
        "csv_dir = \"../../data/csvs/\"\n",
        "csv_path_glob = os.path.join(csv_dir, '*.csv')\n",
        "csv_list = glob(csv_path_glob)\n",
        "\n",
        "for idx, csv in enumerate(csv_list):\n",
        "    print('csv ', idx, ' : ', csv)"
      ],
      "id": "7ccf53e8"
    },
    {
      "cell_type": "markdown",
      "metadata": {},
      "source": [
        "# merge CSVs"
      ],
      "id": "4fa5e0da-f4a5-4328-95b2-ee8f2ac55962"
    },
    {
      "cell_type": "code",
      "execution_count": 3,
      "metadata": {},
      "outputs": [
        {
          "output_type": "display_data",
          "metadata": {},
          "data": {
            "text/html": [
              "</div>"
            ]
          }
        }
      ],
      "source": [
        "df_merged = pl.read_csv(csv_path_glob)\n",
        "\n",
        "df_merged"
      ],
      "id": "247f5854"
    },
    {
      "cell_type": "markdown",
      "metadata": {},
      "source": [
        "> **Dealing with multple files**\n",
        ">\n",
        "> [Multiple](https://docs.pola.rs/user-guide/io/multiple/)\n",
        "\n",
        "> **polars.read_csv**\n",
        ">\n",
        "> [polars.read_csv](https://docs.pola.rs/py-polars/html/reference/api/polars.read_csv.html)\n",
        "\n",
        "> **polars.scan_csv**\n",
        ">\n",
        "> [polars.scan_csv](https://docs.pola.rs/py-polars/html/reference/api/polars.scan_csv.html)\n",
        "\n",
        "# write merged CSV"
      ],
      "id": "de5b736b-534d-467b-928d-d5d85d6f8786"
    },
    {
      "cell_type": "code",
      "execution_count": 4,
      "metadata": {},
      "outputs": [
        {
          "output_type": "stream",
          "name": "stdout",
          "text": [
            "...merged csv written."
          ]
        }
      ],
      "source": [
        "csv_merged_path = os.path.join(\"../../data/csv_merged/\", \"merged.csv\")\n",
        "df_merged.write_csv(csv_merged_path)\n",
        "print('...merged csv written.')"
      ],
      "id": "397b6701"
    },
    {
      "cell_type": "markdown",
      "metadata": {},
      "source": [
        "> **polars.DataFrame.write_csv**\n",
        ">\n",
        "> [polars.DataFrame.write_csv](https://docs.pola.rs/py-polars/html/reference/api/polars.DataFrame.write_csv.html#polars.DataFrame.write_csv)"
      ],
      "id": "f817aa07-e489-473a-83eb-f93fdbe4f344"
    }
  ],
  "nbformat": 4,
  "nbformat_minor": 5,
  "metadata": {
    "kernelspec": {
      "name": "python3",
      "display_name": "Python 3 (ipykernel)",
      "language": "python"
    }
  }
}