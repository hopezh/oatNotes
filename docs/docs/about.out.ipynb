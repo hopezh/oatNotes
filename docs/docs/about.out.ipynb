{
  "cells": [
    {
      "cell_type": "markdown",
      "metadata": {},
      "source": [
        "# About\n",
        "\n",
        "About this site"
      ],
      "id": "b3a0debd-4630-4c0c-8265-bd5abbf3c3f8"
    }
  ],
  "nbformat": 4,
  "nbformat_minor": 5,
  "metadata": {
    "kernelspec": {
      "name": "python3",
      "display_name": "Python 3",
      "language": "python"
    }
  }
}