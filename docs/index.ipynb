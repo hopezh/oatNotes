{
  "cells": [
    {
      "cell_type": "markdown",
      "metadata": {},
      "source": [
        "# OatNotes\n",
        "\n",
        "This is oat’s notebook."
      ],
      "id": "1cce038a-fb74-4abf-b582-6a60c971c1c3"
    }
  ],
  "nbformat": 4,
  "nbformat_minor": 5,
  "metadata": {
    "kernelspec": {
      "display_name": "Python 3",
      "language": "python",
      "name": "python3"
    }
  }
}