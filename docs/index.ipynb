{
  "cells": [
    {
      "cell_type": "markdown",
      "metadata": {},
      "source": [
        "# OatNotes\n",
        "\n",
        "This is oat’s notebook."
      ],
      "id": "a2b9f5b9-7662-40ab-8fce-c76b0d26d90e"
    }
  ],
  "nbformat": 4,
  "nbformat_minor": 5,
  "metadata": {
    "kernelspec": {
      "display_name": "Python 3",
      "language": "python",
      "name": "python3"
    }
  }
}