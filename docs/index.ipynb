{
  "cells": [
    {
      "cell_type": "markdown",
      "metadata": {},
      "source": [
        "# OatNotes\n",
        "\n",
        "This is oat’s notebook."
      ],
      "id": "b7ee933b-ee94-47f0-a04b-06b22cff660b"
    }
  ],
  "nbformat": 4,
  "nbformat_minor": 5,
  "metadata": {
    "kernelspec": {
      "display_name": "Python 3",
      "language": "python",
      "name": "python3"
    }
  }
}