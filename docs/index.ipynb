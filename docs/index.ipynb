{
  "cells": [
    {
      "cell_type": "markdown",
      "metadata": {},
      "source": [
        "# OatNotes\n",
        "\n",
        "This is oat’s notebook."
      ],
      "id": "54ea953f-aba9-4930-8a77-967a87d9beaf"
    }
  ],
  "nbformat": 4,
  "nbformat_minor": 5,
  "metadata": {
    "kernelspec": {
      "display_name": "Python 3",
      "language": "python",
      "name": "python3"
    }
  }
}