{
  "cells": [
    {
      "cell_type": "markdown",
      "metadata": {},
      "source": [
        "# OatNotes\n",
        "\n",
        "This is oat’s notebook."
      ],
      "id": "59395586-2cd0-478a-88e1-9c2e085f37d9"
    }
  ],
  "nbformat": 4,
  "nbformat_minor": 5,
  "metadata": {
    "kernelspec": {
      "display_name": "Python 3",
      "language": "python",
      "name": "python3"
    }
  }
}