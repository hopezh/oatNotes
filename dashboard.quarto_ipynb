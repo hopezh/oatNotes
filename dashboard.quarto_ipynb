{
  "cells": [
    {
      "cell_type": "markdown",
      "metadata": {},
      "source": [
        "---\n",
        "title: \"Worldwide Development\"\n",
        "format: dashboard\n",
        "---"
      ],
      "id": "16f8f863"
    },
    {
      "cell_type": "code",
      "metadata": {},
      "source": [
        "import plotly.express as px\n",
        "df = px.data.gapminder()\n",
        "df = df[df['continent'] != 'Oceania']"
      ],
      "id": "3728329e",
      "execution_count": null,
      "outputs": []
    },
    {
      "cell_type": "markdown",
      "metadata": {},
      "source": [
        "# Indicators\n",
        "\n",
        "## Row {height=60%}\n"
      ],
      "id": "9e9f2de3"
    },
    {
      "cell_type": "code",
      "metadata": {
        "title": "GDP and Life Expectancy"
      },
      "source": [
        "px.scatter(\n",
        "  df, x=\"gdpPercap\", y=\"lifeExp\", \n",
        "  animation_frame=\"year\", animation_group=\"country\",\n",
        "  size=\"pop\", color=\"continent\", hover_name=\"country\", \n",
        "  facet_col=\"continent\", log_x=True, size_max=45, \n",
        "  range_x=[100,100000], range_y=[25,90]\n",
        ")"
      ],
      "id": "18726700",
      "execution_count": null,
      "outputs": []
    },
    {
      "cell_type": "markdown",
      "metadata": {},
      "source": [
        "## Row {height=40%}\n"
      ],
      "id": "3b1c99ef"
    },
    {
      "cell_type": "code",
      "metadata": {
        "title": "Population"
      },
      "source": [
        "px.area(df, x=\"year\", y=\"pop\", color=\"continent\", line_group=\"country\")"
      ],
      "id": "0c156408",
      "execution_count": null,
      "outputs": []
    },
    {
      "cell_type": "code",
      "metadata": {
        "title": "Life Expectancy"
      },
      "source": [
        "px.line(df, x=\"year\", y=\"lifeExp\", color=\"continent\", line_group=\"country\")"
      ],
      "id": "32b1c791",
      "execution_count": null,
      "outputs": []
    },
    {
      "cell_type": "markdown",
      "metadata": {},
      "source": [
        "# Data\n",
        "\n",
        "![](./resource/gapminder.png) Learn more about the Gapminder dataset at <https://www.gapminder.org/data/documentation/>\n"
      ],
      "id": "95c07d71"
    },
    {
      "cell_type": "code",
      "metadata": {},
      "source": [
        "from itables import show\n",
        "show(df, showIndex = False)"
      ],
      "id": "7e7b1aec",
      "execution_count": null,
      "outputs": []
    }
  ],
  "metadata": {
    "kernelspec": {
      "name": "python3",
      "language": "python",
      "display_name": "Python 3 (ipykernel)",
      "path": "/opt/anaconda3/envs/ai/share/jupyter/kernels/python3"
    }
  },
  "nbformat": 4,
  "nbformat_minor": 5
}